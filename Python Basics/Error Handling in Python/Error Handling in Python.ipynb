{
 "cells": [
  {
   "cell_type": "markdown",
   "id": "94441be1",
   "metadata": {},
   "source": [
    "***Subject Python Basic"
   ]
  },
  {
   "cell_type": "markdown",
   "id": "e9cd7ceb",
   "metadata": {},
   "source": [
    "***LevelBeginner"
   ]
  },
  {
   "cell_type": "markdown",
   "id": "4c94ba4a",
   "metadata": {},
   "source": [
    "***HeadlineIntroduction to Python Programming"
   ]
  },
  {
   "cell_type": "markdown",
   "id": "4710e09c",
   "metadata": {},
   "source": [
    "***OverviewPython is a high-level, interpreted, interactive and object-oriented scripting language. Python is designed to be highly readable. It uses English keywords frequently where as other languages use punctuation, and it has fewer syntactical constructions than other languages."
   ]
  },
  {
   "cell_type": "markdown",
   "id": "e08d5b14",
   "metadata": {},
   "source": [
    "***Objective"
   ]
  },
  {
   "cell_type": "markdown",
   "id": "62b9d86a",
   "metadata": {},
   "source": [
    "Understand the basics of Python programming language"
   ]
  },
  {
   "cell_type": "markdown",
   "id": "5a582f8e",
   "metadata": {},
   "source": [
    "Learn about data types, variables, and operators in Python"
   ]
  },
  {
   "cell_type": "markdown",
   "id": "48070586",
   "metadata": {},
   "source": [
    "Get introduced to control structures in Python"
   ]
  },
  {
   "cell_type": "markdown",
   "id": "bada0072",
   "metadata": {},
   "source": [
    "Learn about functions and modules in Python"
   ]
  },
  {
   "cell_type": "markdown",
   "id": "e4bc20fa",
   "metadata": {},
   "source": [
    "Understand how to handle errors and exceptions in Python"
   ]
  },
  {
   "cell_type": "markdown",
   "id": "3e14f427",
   "metadata": {},
   "source": [
    "Understand the basics of Python programming language"
   ]
  },
  {
   "cell_type": "markdown",
   "id": "dd5a8c36",
   "metadata": {},
   "source": [
    "Learn about data types, variables, and operators in Python"
   ]
  },
  {
   "cell_type": "markdown",
   "id": "07dc5507",
   "metadata": {},
   "source": [
    "Get introduced to control structures in Python"
   ]
  },
  {
   "cell_type": "markdown",
   "id": "a2cf7aed",
   "metadata": {},
   "source": [
    "Learn about functions and modules in Python"
   ]
  },
  {
   "cell_type": "markdown",
   "id": "95d23908",
   "metadata": {},
   "source": [
    "Understand how to handle errors and exceptions in Python"
   ]
  },
  {
   "cell_type": "markdown",
   "id": "eaef0bb8",
   "metadata": {},
   "source": [
    "Understand the basics of Python programming language"
   ]
  },
  {
   "cell_type": "markdown",
   "id": "27fd7774",
   "metadata": {},
   "source": [
    "Learn about data types, variables, and operators in Python"
   ]
  },
  {
   "cell_type": "markdown",
   "id": "7a6ec1dd",
   "metadata": {},
   "source": [
    "Get introduced to control structures in Python"
   ]
  },
  {
   "cell_type": "markdown",
   "id": "9e26e8f7",
   "metadata": {},
   "source": [
    "Learn about functions and modules in Python"
   ]
  },
  {
   "cell_type": "markdown",
   "id": "08c7e948",
   "metadata": {},
   "source": [
    "Understand how to handle errors and exceptions in Python"
   ]
  },
  {
   "cell_type": "markdown",
   "id": "95cd5445",
   "metadata": {},
   "source": [
    "Understand the basics of Python programming language"
   ]
  },
  {
   "cell_type": "markdown",
   "id": "6feb1bde",
   "metadata": {},
   "source": [
    "Learn about data types, variables, and operators in Python"
   ]
  },
  {
   "cell_type": "markdown",
   "id": "2c03dc17",
   "metadata": {},
   "source": [
    "Get introduced to control structures in Python"
   ]
  },
  {
   "cell_type": "markdown",
   "id": "26986ba7",
   "metadata": {},
   "source": [
    "Learn about functions and modules in Python"
   ]
  },
  {
   "cell_type": "markdown",
   "id": "482c6712",
   "metadata": {},
   "source": [
    "Understand how to handle errors and exceptions in Python"
   ]
  },
  {
   "cell_type": "markdown",
   "id": "61a354de",
   "metadata": {},
   "source": [
    "Understand the basics of Python programming language"
   ]
  },
  {
   "cell_type": "markdown",
   "id": "b09ecfe0",
   "metadata": {},
   "source": [
    "Learn about data types, variables, and operators in Python"
   ]
  },
  {
   "cell_type": "markdown",
   "id": "3eed9187",
   "metadata": {},
   "source": [
    "Get introduced to control structures in Python"
   ]
  },
  {
   "cell_type": "markdown",
   "id": "b430f6fd",
   "metadata": {},
   "source": [
    "Learn about functions and modules in Python"
   ]
  },
  {
   "cell_type": "markdown",
   "id": "97608184",
   "metadata": {},
   "source": [
    "Understand how to handle errors and exceptions in Python"
   ]
  },
  {
   "cell_type": "markdown",
   "id": "82f6a67d",
   "metadata": {},
   "source": [
    "Understand the basics of Python programming language"
   ]
  },
  {
   "cell_type": "markdown",
   "id": "b685ea3a",
   "metadata": {},
   "source": [
    "Learn about data types, variables, and operators in Python"
   ]
  },
  {
   "cell_type": "markdown",
   "id": "3169cebb",
   "metadata": {},
   "source": [
    "Get introduced to control structures in Python"
   ]
  },
  {
   "cell_type": "markdown",
   "id": "0e02e3fc",
   "metadata": {},
   "source": [
    "Learn about functions and modules in Python"
   ]
  },
  {
   "cell_type": "markdown",
   "id": "25bd8a54",
   "metadata": {},
   "source": [
    "Understand how to handle errors and exceptions in Python"
   ]
  },
  {
   "cell_type": "markdown",
   "id": "96e956dd",
   "metadata": {},
   "source": [
    "Introduction to Error Handling in Python: Python provides several built-in mechanisms for error handling. The most common one is the use of try-except blocks. In this block, Python tries to execute the code in the 'try' block. If an error occurs, instead of stopping the program, it jumps to the 'except' block and executes that code."
   ]
  },
  {
   "cell_type": "code",
   "execution_count": null,
   "id": "6e1cb962",
   "metadata": {},
   "outputs": [],
   "source": [
    "try:\n",
    "    a = 50\n",
    "    b = 0\n",
    "    c = a / b\n",
    "except ZeroDivisionError:\n",
    "    print(\"Can't divide by zero\")"
   ]
  },
  {
   "cell_type": "markdown",
   "id": "9b10fd1b",
   "metadata": {},
   "source": [
    "Understanding Python Exceptions: Python exceptions are events that can modify the flow of control through a program. In Python, exceptions can be handled using a try-except block. Here is a simple example of how to handle exceptions in Python."
   ]
  },
  {
   "cell_type": "code",
   "execution_count": null,
   "id": "69899877",
   "metadata": {},
   "outputs": [],
   "source": [
    "try:\n",
    "    a = 50\n",
    "    b = 0\n",
    "    c = a / b\n",
    "except ZeroDivisionError:\n",
    "    print(\"Can't divide by zero\")"
   ]
  },
  {
   "cell_type": "markdown",
   "id": "6354675e",
   "metadata": {},
   "source": [
    "Python has several built-in exceptions that force your program to output an error when something in the program goes wrong. When these exceptions occur, it causes the current process to stop and passes it to the calling process until it is handled. If not handled, the program will crash. For beginners, here are some common types of Python errors:\n",
    "\n",
    "1. **Syntax Error:** As the name suggest, this error is caused by wrong syntax in the code. It occurs while parsing the code.\n",
    "\n",
    "2. **ZeroDivisionError:** This error is raised when the second operator in the division is zero.\n",
    "\n",
    "3. **NameError:** This error is raised when a local or global name is not found.\n",
    "\n",
    "4. **TypeError:** This error is raised when an operation or function is applied to an object of inappropriate type."
   ]
  },
  {
   "cell_type": "code",
   "execution_count": null,
   "id": "08114cb1",
   "metadata": {},
   "outputs": [],
   "source": [
    "try:\n",
    "    a = 50\n",
    "    b = 0\n",
    "    c = a / b\n",
    "except ZeroDivisionError:\n",
    "    print(\"Can't divide by zero\")\n",
    "\n",
    "try:\n",
    "    print(x)\n",
    "except NameError:\n",
    "    print(\"Variable x is not defined\")\n",
    "\n",
    "try:\n",
    "    '2' + 2\n",
    "except TypeError:\n",
    "    print(\"TypeError for +: str and int\")"
   ]
  },
  {
   "cell_type": "markdown",
   "id": "57cf5a4a",
   "metadata": {},
   "source": [
    "Python has several built-in exceptions that are automatically raised when your program encounters an error, such as dividing by zero or trying to access a non-existent key in a dictionary. Here is an example of how to handle exceptions in Python using a try-except block."
   ]
  },
  {
   "cell_type": "code",
   "execution_count": null,
   "id": "dde274ac",
   "metadata": {},
   "outputs": [],
   "source": [
    "try:\n",
    "    a = 50\n",
    "    b = 0\n",
    "    c = a / b\n",
    "except ZeroDivisionError:\n",
    "    print(\"Can't divide by zero\")"
   ]
  },
  {
   "cell_type": "markdown",
   "id": "9548ca75",
   "metadata": {},
   "source": [
    "Java also has built-in exceptions that are thrown when an error occurs. Here is an example of how to handle exceptions in Java using a try-catch block."
   ]
  },
  {
   "cell_type": "code",
   "execution_count": null,
   "id": "a605bad1",
   "metadata": {},
   "outputs": [],
   "source": [
    "public class Main {  public static void main(String[] args) {    try {      int a = 50;      int b = 0;      int c = a / b;      System.out.println(\"Result : \" + c);    }    catch (ArithmeticException e) {      System.out.println(\"Can't divide by zero\");    }  }}"
   ]
  },
  {
   "cell_type": "markdown",
   "id": "7d995bf5",
   "metadata": {},
   "source": [
    "TensorFlow is a Python library for fast numerical computing created and released by Google. It is a foundation library that can be used to create Deep Learning models directly or by using wrapper libraries that simplify the process built on top of TensorFlow. Here is an example of creating a simple neural network model in TensorFlow."
   ]
  },
  {
   "cell_type": "code",
   "execution_count": null,
   "id": "e0084b1c",
   "metadata": {},
   "outputs": [],
   "source": [
    "import tensorflow as tf\n",
    "model = tf.keras.Sequential([\n",
    "    tf.keras.layers.Dense(64, activation='relu'),\n",
    "    tf.keras.layers.Dense(10, activation='softmax')\n",
    "])\n",
    "model.compile(optimizer='adam', loss='sparse_categorical_crossentropy', metrics=['accuracy'])"
   ]
  },
  {
   "cell_type": "markdown",
   "id": "9858cd46",
   "metadata": {},
   "source": [
    "C++ provides a mechanism to detect and handle run-time errors or exceptions. Here is an example of how to handle exceptions in C++ using a try-catch block."
   ]
  },
  {
   "cell_type": "code",
   "execution_count": null,
   "id": "30371189",
   "metadata": {},
   "outputs": [],
   "source": [
    "#include <iostream>\n",
    "using namespace std;\n",
    "int main() {\n",
    "    try {\n",
    "        int a = 50;\n",
    "        int b = 0;\n",
    "        if (b == 0) {\n",
    "            throw runtime_error(\"Can't divide by zero\");\n",
    "        }\n",
    "        int c = a / b;\n",
    "        cout << \"Result: \" << c << endl;\n",
    "    } catch (const runtime_error &e) {\n",
    "        cout << e.what() << endl;\n",
    "    }\n",
    "    return 0;\n",
    "}"
   ]
  },
  {
   "cell_type": "markdown",
   "id": "c19fc324",
   "metadata": {},
   "source": [
    "C does not provide direct support for error handling (also known as exception handling). However, you can use other methods to achieve the same result. Here is an example of error handling in C using if statements to prevent division by zero."
   ]
  },
  {
   "cell_type": "code",
   "execution_count": null,
   "id": "89d0bfb1",
   "metadata": {},
   "outputs": [],
   "source": [
    "#include <stdio.h>\n",
    "int main() {\n",
    "    int a = 50;\n",
    "    int b = 0;\n",
    "    if (b == 0) {\n",
    "        printf(\"Error: Can't divide by zero\");\n",
    "    } else {\n",
    "        int c = a / b;\n",
    "        printf(\"Result: %d\", c);\n",
    "    }\n",
    "    return 0;\n",
    "}"
   ]
  },
  {
   "cell_type": "markdown",
   "id": "027519bf",
   "metadata": {},
   "source": [
    "JavaScript also provides a way to handle exceptions using a try-catch block. Here is an example of how to handle exceptions in JavaScript."
   ]
  },
  {
   "cell_type": "code",
   "execution_count": null,
   "id": "f7a7778b",
   "metadata": {},
   "outputs": [],
   "source": [
    "try {\n",
    "    let a = 50;\n",
    "    let b = 0;\n",
    "    let c = a / b;\n",
    "    console.log('Result: ' + c);\n",
    "} catch (error) {\n",
    "    console.error(\"Can't divide by zero\");\n",
    "}"
   ]
  },
  {
   "cell_type": "markdown",
   "id": "331479ff",
   "metadata": {},
   "source": [
    "This Python code demonstrates how to handle exceptions using a try-except block. The try block lets you test a block of code for errors. The except block lets you handle the error. In this example, we are trying to divide a number by zero, which raises a ZeroDivisionError. We handle this error in the except block by printing a message to the user."
   ]
  },
  {
   "cell_type": "code",
   "execution_count": null,
   "id": "7c951908",
   "metadata": {},
   "outputs": [],
   "source": [
    "try:\n",
    "    a = 50\n",
    "    b = 0\n",
    "    c = a / b\n",
    "except ZeroDivisionError:\n",
    "    print(\"Can't divide by zero\")"
   ]
  },
  {
   "cell_type": "markdown",
   "id": "96ff797d",
   "metadata": {},
   "source": [
    "In Python, the `try` and `except` blocks are used to catch and handle exceptions. Python executes code following the `try` statement as a \"normal\" part of the program. The code that follows the `except` statement is the program's response to any exceptions in the preceding `try` clause. The `else` clause in a `try`/`except` statement is optional. When it's present, it makes it clear that the code block inside the `else` clause will only be executed if no exceptions were raised in the `try` block."
   ]
  },
  {
   "cell_type": "code",
   "execution_count": null,
   "id": "e44fa3ab",
   "metadata": {},
   "outputs": [],
   "source": [
    "try:\n",
    "    a = 50\n",
    "    b = 10\n",
    "    c = a / b\n",
    "except ZeroDivisionError:\n",
    "    print(\"Can't divide by zero\")\n",
    "else:\n",
    "    print(\"The division was successful.\")"
   ]
  },
  {
   "cell_type": "markdown",
   "id": "36a2c8ba",
   "metadata": {},
   "source": [
    "In Python, the `finally` clause is an optional clause that follows all `except` clauses. It is intended to define clean-up actions that must be executed under all circumstances. Here is an example of using the `finally` clause with `try` and `except`."
   ]
  },
  {
   "cell_type": "code",
   "execution_count": null,
   "id": "06f8d523",
   "metadata": {},
   "outputs": [],
   "source": [
    "try:\n",
    "    a = 50\n",
    "    b = 0\n",
    "    c = a / b\n",
    "except ZeroDivisionError:\n",
    "    print(\"Can't divide by zero\")\n",
    "finally:\n",
    "    print(\"This is the clean-up code.\")"
   ]
  },
  {
   "cell_type": "markdown",
   "id": "e510f0e5",
   "metadata": {},
   "source": [
    "This Python code demonstrates how to raise exceptions. The `raise` statement allows the programmer to force a specified exception to occur. For example, here we raise a `TypeError` if the input is not an integer."
   ]
  },
  {
   "cell_type": "code",
   "execution_count": null,
   "id": "10617794",
   "metadata": {},
   "outputs": [],
   "source": [
    "def check_integer(n):\n",
    "    if not isinstance(n, int):\n",
    "        raise TypeError(\"Input must be an integer\")\n",
    "    else:\n",
    "        print(\"Input is an integer\")\n",
    "\n",
    "try:\n",
    "    check_integer('a')\n",
    "except TypeError as e:\n",
    "    print(e)"
   ]
  },
  {
   "cell_type": "markdown",
   "id": "5b1fbfc7",
   "metadata": {},
   "source": [
    "This Python code demonstrates how to create and use custom exceptions. Custom exceptions are user-defined exceptions that are derived from the Exception class. They are useful for creating your own specific type of exception that isn't covered by the built-in exceptions."
   ]
  },
  {
   "cell_type": "code",
   "execution_count": null,
   "id": "015f2a88",
   "metadata": {},
   "outputs": [],
   "source": [
    "class CustomError(Exception):\n",
    "    pass\n",
    "\n",
    "try:\n",
    "    raise CustomError('This is a custom exception')\n",
    "except CustomError as e:\n",
    "    print('Caught an exception:', e)"
   ]
  },
  {
   "cell_type": "markdown",
   "id": "f3a2cf56",
   "metadata": {},
   "source": [
    "This Python code demonstrates how to handle exceptions using a try-except block. It is a basic example suitable for beginners. The code tries to divide a number by zero, which is not allowed in mathematics. The ZeroDivisionError exception is then caught and a message is printed."
   ]
  },
  {
   "cell_type": "code",
   "execution_count": null,
   "id": "26a084be",
   "metadata": {},
   "outputs": [],
   "source": [
    "try:\n",
    "    a = 50\n",
    "    b = 0\n",
    "    c = a / b\n",
    "except ZeroDivisionError:\n",
    "    print(\"Can't divide by zero\")"
   ]
  }
 ],
 "metadata": {
  "kernelspec": {
   "display_name": "Python 3",
   "name": "python3"
  },
  "language_info": {
   "name": "python",
   "version": "3.8.5"
  }
 },
 "nbformat": 4,
 "nbformat_minor": 5
}
