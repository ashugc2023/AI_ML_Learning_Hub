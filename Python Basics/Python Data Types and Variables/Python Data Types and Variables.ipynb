{
 "cells": [
  {
   "cell_type": "markdown",
   "id": "94dd8e4c",
   "metadata": {},
   "source": [
    "***Subject Python Basic"
   ]
  },
  {
   "cell_type": "markdown",
   "id": "9c0ef480",
   "metadata": {},
   "source": [
    "***LevelBeginner"
   ]
  },
  {
   "cell_type": "markdown",
   "id": "a5a58cab",
   "metadata": {},
   "source": [
    "***HeadlineIntroduction to Python Programming"
   ]
  },
  {
   "cell_type": "markdown",
   "id": "45d937c2",
   "metadata": {},
   "source": [
    "***OverviewPython is a high-level, interpreted, interactive and object-oriented scripting language. Python is designed to be highly readable. It uses English keywords frequently where as other languages use punctuation, and it has fewer syntactical constructions than other languages."
   ]
  },
  {
   "cell_type": "markdown",
   "id": "f894ff00",
   "metadata": {},
   "source": [
    "***Objective"
   ]
  },
  {
   "cell_type": "markdown",
   "id": "bfcdd045",
   "metadata": {},
   "source": [
    "Understand the basics of Python programming language"
   ]
  },
  {
   "cell_type": "markdown",
   "id": "aee99c3b",
   "metadata": {},
   "source": [
    "Learn about data types, variables, and operators in Python"
   ]
  },
  {
   "cell_type": "markdown",
   "id": "c617be7c",
   "metadata": {},
   "source": [
    "Get introduced to control structures in Python"
   ]
  },
  {
   "cell_type": "markdown",
   "id": "bb7b508c",
   "metadata": {},
   "source": [
    "Learn about functions and modules in Python"
   ]
  },
  {
   "cell_type": "markdown",
   "id": "9505fcc8",
   "metadata": {},
   "source": [
    "Understand how to handle errors and exceptions in Python"
   ]
  },
  {
   "cell_type": "markdown",
   "id": "93ac2e2d",
   "metadata": {},
   "source": [
    "Understand the basics of Python programming language"
   ]
  },
  {
   "cell_type": "markdown",
   "id": "01acff2a",
   "metadata": {},
   "source": [
    "Learn about data types, variables, and operators in Python"
   ]
  },
  {
   "cell_type": "markdown",
   "id": "025ee3a7",
   "metadata": {},
   "source": [
    "Get introduced to control structures in Python"
   ]
  },
  {
   "cell_type": "markdown",
   "id": "7f6bedb3",
   "metadata": {},
   "source": [
    "Learn about functions and modules in Python"
   ]
  },
  {
   "cell_type": "markdown",
   "id": "1a0e1a6d",
   "metadata": {},
   "source": [
    "Understand how to handle errors and exceptions in Python"
   ]
  },
  {
   "cell_type": "markdown",
   "id": "3969f66a",
   "metadata": {},
   "source": [
    "This Python code demonstrates the basic syntax and data types in Python. Python is a high-level, interpreted, interactive and object-oriented scripting language. Python is designed to be highly readable."
   ]
  },
  {
   "cell_type": "code",
   "execution_count": null,
   "id": "f2e45a68",
   "metadata": {},
   "outputs": [],
   "source": [
    "print(\"Hello, World!\")\n",
    "\n",
    "# This is a comment\n",
    "\n",
    "# The following are different data types in Python\n",
    "\n",
    "# Numbers\n",
    "num = 123\n",
    "print(num)\n",
    "\n",
    "# String\n",
    "str = \"Python\"\n",
    "print(str)\n",
    "\n",
    "# List\n",
    "list = [\"abc\", 123]\n",
    "print(list)\n",
    "\n",
    "# Dictionary\n",
    "dict = {\"name\": \"John\", \"code\": 6734, \"dept\": \"sales\"}\n",
    "print(dict)"
   ]
  },
  {
   "cell_type": "markdown",
   "id": "28bd6634",
   "metadata": {},
   "source": [
    "This section provides a guide on how to install and setup Python for beginners. Python is a popular high-level programming language known for its simplicity and readability. It is widely used in various fields such as web development, data analysis, artificial intelligence, and more. To start using Python, you need to install it on your computer first."
   ]
  },
  {
   "cell_type": "code",
   "execution_count": null,
   "id": "433489fd",
   "metadata": {},
   "outputs": [],
   "source": [
    "1. Visit the official Python website at https://www.python.org/.\n",
    "2. Navigate to the Downloads section and click on the version of Python that you want to install. As a beginner, it is recommended to install the latest version.\n",
    "3. After downloading the installer, run it on your computer. During the installation process, make sure to check the box that says 'Add Python to PATH'. This will allow you to run Python from the command line.\n",
    "4. To verify the installation, open the command line and type 'python --version'. If the installation was successful, it should display the version of Python that you installed."
   ]
  },
  {
   "cell_type": "markdown",
   "id": "ccff3bc9",
   "metadata": {},
   "source": [
    "Python Variables: In Python, variables are created when you assign a value to it. Python has no command for declaring a variable. A variable is created the moment you first assign a value to it."
   ]
  },
  {
   "cell_type": "code",
   "execution_count": null,
   "id": "c9fedf0f",
   "metadata": {},
   "outputs": [],
   "source": [
    "x = 5\n",
    "y = \"John\"\n",
    "print(x)\n",
    "print(y)"
   ]
  },
  {
   "cell_type": "markdown",
   "id": "bc829d60",
   "metadata": {},
   "source": [
    "Python has several built-in data types. Here we will discuss the most common data types: Numbers, Strings, List, Tuple, Set, and Dictionary."
   ]
  },
  {
   "cell_type": "code",
   "execution_count": null,
   "id": "d5335065",
   "metadata": {},
   "outputs": [],
   "source": [
    "# Numbers\n",
    "num = 10\n",
    "print(type(num))\n",
    "\n",
    "# Strings\n",
    "str = \"Hello World\"\n",
    "print(type(str))\n",
    "\n",
    "# List\n",
    "list = [1, 2, 3, 4, 5]\n",
    "print(type(list))\n",
    "\n",
    "# Tuple\n",
    "tuple = (1, 2, 3, 4, 5)\n",
    "print(type(tuple))\n",
    "\n",
    "# Set\n",
    "set = {1, 2, 3, 4, 5}\n",
    "print(type(set))\n",
    "\n",
    "# Dictionary\n",
    "dict = {\"name\": \"John\", \"age\": 30}\n",
    "print(type(dict))"
   ]
  },
  {
   "cell_type": "markdown",
   "id": "d6009a13",
   "metadata": {},
   "source": [
    "Python supports three types of numbers - integer, floating point and complex numbers. Here is an example of each type:"
   ]
  },
  {
   "cell_type": "code",
   "execution_count": null,
   "id": "2ed2eea4",
   "metadata": {},
   "outputs": [],
   "source": [
    "integer_number = 10\n",
    "floating_point_number = 10.0\n",
    "complex_number = 10 + 2j\n",
    "print(type(integer_number))\n",
    "print(type(floating_point_number))\n",
    "print(type(complex_number))"
   ]
  },
  {
   "cell_type": "markdown",
   "id": "3596f05b",
   "metadata": {},
   "source": [
    "Python provides various built-in functions for numbers. Here are some examples:"
   ]
  },
  {
   "cell_type": "code",
   "execution_count": null,
   "id": "f3ad8752",
   "metadata": {},
   "outputs": [],
   "source": [
    "num = -5\n",
    "print(abs(num))  # Absolute value\n",
    "print(pow(2, 3))  # Power function\n",
    "print(max(1, 2, 3))  # Maximum value\n",
    "print(min(1, 2, 3))  # Minimum value"
   ]
  },
  {
   "cell_type": "markdown",
   "id": "3e618896",
   "metadata": {},
   "source": [
    "Python also supports various mathematical operations on numbers. Here are some examples:"
   ]
  },
  {
   "cell_type": "code",
   "execution_count": null,
   "id": "03e807a8",
   "metadata": {},
   "outputs": [],
   "source": [
    "print(2 + 3)  # Addition\n",
    "print(2 - 3)  # Subtraction\n",
    "print(2 * 3)  # Multiplication\n",
    "print(2 / 3)  # Division\n",
    "print(2 % 3)  # Modulus\n",
    "print(2 ** 3)  # Exponentiation"
   ]
  },
  {
   "cell_type": "markdown",
   "id": "80939ee7",
   "metadata": {},
   "source": [
    "Python supports the use of parentheses for grouping and changing the order of operations. Here is an example:"
   ]
  },
  {
   "cell_type": "code",
   "execution_count": null,
   "id": "6fa2065c",
   "metadata": {},
   "outputs": [],
   "source": [
    "print((2 + 3) * 4)  # Using parentheses changes the order of operations"
   ]
  },
  {
   "cell_type": "markdown",
   "id": "7745ec98",
   "metadata": {},
   "source": [
    "Python strings are sequences of characters. They can be defined using either single quotes ('') or double quotes (\"\"). Here is an example of how to define and print a string in Python."
   ]
  },
  {
   "cell_type": "code",
   "execution_count": null,
   "id": "bfdead62",
   "metadata": {},
   "outputs": [],
   "source": [
    "my_string = \"Hello, World!\"\n",
    "print(my_string)"
   ]
  },
  {
   "cell_type": "markdown",
   "id": "3ef65511",
   "metadata": {},
   "source": [
    "You can access individual characters in a string using indexing. Python uses zero-based indexing, so the first character is at index 0. Here is an example:"
   ]
  },
  {
   "cell_type": "code",
   "execution_count": null,
   "id": "fca6b70d",
   "metadata": {},
   "outputs": [],
   "source": [
    "my_string = \"Hello, World!\"\n",
    "print(my_string[0])  # This will print 'H'"
   ]
  },
  {
   "cell_type": "markdown",
   "id": "b060d23c",
   "metadata": {},
   "source": [
    "Python also supports negative indexing, which allows you to count from the end of the string. Here is an example:"
   ]
  },
  {
   "cell_type": "code",
   "execution_count": null,
   "id": "db270bbb",
   "metadata": {},
   "outputs": [],
   "source": [
    "my_string = \"Hello, World!\"\n",
    "print(my_string[-1])  # This will print '!'"
   ]
  },
  {
   "cell_type": "markdown",
   "id": "098528e5",
   "metadata": {},
   "source": [
    "You can slice a string to get a substring. Here is an example:"
   ]
  },
  {
   "cell_type": "code",
   "execution_count": null,
   "id": "3805cff9",
   "metadata": {},
   "outputs": [],
   "source": [
    "my_string = \"Hello, World!\"\n",
    "print(my_string[0:5])  # This will print 'Hello'"
   ]
  },
  {
   "cell_type": "markdown",
   "id": "35b0c37f",
   "metadata": {},
   "source": [
    "Python strings are immutable, which means you cannot change an existing string. But you can create a new string that is a variation on the original. Here is an example:"
   ]
  },
  {
   "cell_type": "code",
   "execution_count": null,
   "id": "0187cafd",
   "metadata": {},
   "outputs": [],
   "source": [
    "my_string = \"Hello, World!\"\n",
    "my_string = \"J\" + my_string[1:]\n",
    "print(my_string)  # This will print 'Jello, World!'"
   ]
  },
  {
   "cell_type": "markdown",
   "id": "1e0eadcb",
   "metadata": {},
   "source": [
    "The len() function returns the length of a string. Here is an example:"
   ]
  },
  {
   "cell_type": "code",
   "execution_count": null,
   "id": "32e4962c",
   "metadata": {},
   "outputs": [],
   "source": [
    "my_string = \"Hello, World!\"\n",
    "print(len(my_string))  # This will print '13'"
   ]
  },
  {
   "cell_type": "markdown",
   "id": "1b05eb14",
   "metadata": {},
   "source": [
    "Python provides several methods that can be used to manipulate strings. Here are some examples:"
   ]
  },
  {
   "cell_type": "code",
   "execution_count": null,
   "id": "93e74120",
   "metadata": {},
   "outputs": [],
   "source": [
    "my_string = \"Hello, World!\"\n",
    "print(my_string.lower())  # This will print 'hello, world!'\n",
    "print(my_string.upper())  # This will print 'HELLO, WORLD!'\n",
    "print(my_string.replace('H', 'J'))  # This will print 'Jello, World!'\n",
    "print(my_string.split(','))  # This will print ['Hello', ' World!']"
   ]
  },
  {
   "cell_type": "markdown",
   "id": "ec2d4217",
   "metadata": {},
   "source": [
    "Python Lists are versatile data structures that can hold different types of elements. They are ordered, changeable, and allow duplicate members. Here is a basic example of how to create and manipulate a list in Python."
   ]
  },
  {
   "cell_type": "code",
   "execution_count": null,
   "id": "951aaa94",
   "metadata": {},
   "outputs": [],
   "source": [
    "my_list = [1, 2, 3, 4, 5]\n",
    "print(my_list)\n",
    "my_list.append(6)\n",
    "print(my_list)\n",
    "my_list.remove(1)\n",
    "print(my_list)\n",
    "print(len(my_list))"
   ]
  },
  {
   "cell_type": "markdown",
   "id": "ef08a644",
   "metadata": {},
   "source": [
    "This Python code demonstrates how to create and manipulate tuples. Tuples are immutable sequences, typically used to store collections of heterogeneous data."
   ]
  },
  {
   "cell_type": "code",
   "execution_count": null,
   "id": "9a24ab4b",
   "metadata": {},
   "outputs": [],
   "source": [
    "my_tuple = ('hello', 1, 3.14)\n",
    "print(my_tuple[0])  # Output: hello\n",
    "print(my_tuple[-1])  # Output: 3.14\n",
    "try:\n",
    "    my_tuple[1] = 'world'\n",
    "except TypeError:\n",
    "    print(\"Can't modify a tuple\")  # Output: Can't modify a tuple"
   ]
  },
  {
   "cell_type": "markdown",
   "id": "c5ae5dd0",
   "metadata": {},
   "source": [
    "This Python code demonstrates how to create and manipulate sets. A set is a collection which is unordered and unindexed. In Python sets are written with curly brackets."
   ]
  },
  {
   "cell_type": "code",
   "execution_count": null,
   "id": "070fdaf4",
   "metadata": {},
   "outputs": [],
   "source": [
    "myset = {\"apple\", \"banana\", \"cherry\"}\n",
    "print(myset)\n",
    "# Check if \"banana\" is present in the set:\n",
    "print(\"banana\" in myset)\n",
    "# Add an item to a set, using the add() method:\n",
    "myset.add(\"orange\")\n",
    "print(myset)\n",
    "# Add multiple items to a set, using the update() method:\n",
    "myset.update([\"orange\", \"mango\", \"grapes\"])\n",
    "print(myset)\n",
    "# Get the number of items in a set:\n",
    "print(len(myset))\n",
    "# Remove \"banana\" by using the remove() method:\n",
    "myset.remove(\"banana\")\n",
    "print(myset)"
   ]
  },
  {
   "cell_type": "markdown",
   "id": "a9925c0b",
   "metadata": {},
   "source": [
    "Python Dictionaries are unordered, changeable and indexed. In Python dictionaries are written with curly brackets, and they have keys and values."
   ]
  },
  {
   "cell_type": "code",
   "execution_count": null,
   "id": "a59c80d9",
   "metadata": {},
   "outputs": [],
   "source": [
    "dict = {\n",
    "    \"brand\": \"Ford\",\n",
    "    \"model\": \"Mustang\",\n",
    "    \"year\": 1964\n",
    "}\n",
    "print(dict)"
   ]
  },
  {
   "cell_type": "markdown",
   "id": "ee03f070",
   "metadata": {},
   "source": [
    "Python Operators are used to perform operations on variables and values. Python divides the operators in the following groups:\n",
    "\n",
    "1. Arithmetic operators\n",
    "2. Assignment operators\n",
    "3. Comparison operators\n",
    "4. Logical operators\n",
    "5. Identity operators\n",
    "6. Membership operators\n",
    "7. Bitwise operators"
   ]
  },
  {
   "cell_type": "code",
   "execution_count": null,
   "id": "5889e6d3",
   "metadata": {},
   "outputs": [],
   "source": [
    "a = 10\n",
    "b = 20\n",
    "\n",
    "# Arithmetic Operators\n",
    "print('Addition :', a + b)\n",
    "print('Subtraction :', a - b)\n",
    "print('Multiplication :', a * b)\n",
    "print('Division :', a / b)\n",
    "\n",
    "# Assignment Operators\n",
    "a += b\n",
    "print('a =', a)\n",
    "\n",
    "# Comparison Operators\n",
    "print('a > b is',a>b)\n",
    "print('a < b is',a<b)\n",
    "print('a == b is',a==b)\n",
    "\n",
    "# Logical Operators\n",
    "print('a and b is',a and b)\n",
    "print('a or b is',a or b)\n",
    "print('not a is',not a)\n",
    "\n",
    "# Identity Operators\n",
    "print('a is b is',a is b)\n",
    "print('a is not b is',a is not b)\n",
    "\n",
    "# Membership Operators\n",
    "list = [1, 2, 3, 4, 5 ]; \n",
    "print('a in list is',a in list)\n",
    "print('a not in list is',a not in list)\n",
    "\n",
    "# Bitwise Operators\n",
    "print('a & b is',a&b)\n",
    "print('a | b is',a|b)\n",
    "print('~a is',~a)\n",
    "print('a ^ b is',a^b)\n",
    "print('a >> b is',a>>b)\n",
    "print('a << b is',a<<b)"
   ]
  },
  {
   "cell_type": "markdown",
   "id": "39ff9206",
   "metadata": {},
   "source": [
    "This Python code demonstrates the use of conditional statements. Conditional statements in Python allows us to test conditions and change the behavior of the program accordingly."
   ]
  },
  {
   "cell_type": "code",
   "execution_count": null,
   "id": "f2529799",
   "metadata": {},
   "outputs": [],
   "source": [
    "a = 10\n",
    "b = 20\n",
    "if b > a:\n",
    "  print(\"b is greater than a\")\n",
    "elif a == b:\n",
    "  print(\"a and b are equal\")\n",
    "else:\n",
    "  print(\"a is greater than b\")"
   ]
  },
  {
   "cell_type": "markdown",
   "id": "695b6ed4",
   "metadata": {},
   "source": [
    "This Python code demonstrates how to use loops. There are two types of loops in Python, for and while."
   ]
  },
  {
   "cell_type": "code",
   "execution_count": null,
   "id": "1697dc47",
   "metadata": {},
   "outputs": [],
   "source": [
    "for i in range(5):\n",
    "    print(i)\n",
    "\n",
    "i = 0\n",
    "while i < 5:\n",
    "    print(i)\n",
    "    i += 1"
   ]
  },
  {
   "cell_type": "markdown",
   "id": "13ed8463",
   "metadata": {},
   "source": [
    "Python functions are defined using the def keyword. For example, the following function takes two numbers as parameters and returns their sum."
   ]
  },
  {
   "cell_type": "code",
   "execution_count": null,
   "id": "4b9a4549",
   "metadata": {},
   "outputs": [],
   "source": [
    "def add_numbers(a, b):\n",
    "    return a + b\n",
    "\n",
    "# To call the function:\n",
    "result = add_numbers(5, 3)\n",
    "print(result)  # Outputs: 8"
   ]
  },
  {
   "cell_type": "markdown",
   "id": "d9467d93",
   "metadata": {},
   "source": [
    "Functions can also take optional parameters. These parameters have a default value that is used if the function is called without a value for that parameter. Here is an example:"
   ]
  },
  {
   "cell_type": "code",
   "execution_count": null,
   "id": "920aa67a",
   "metadata": {},
   "outputs": [],
   "source": [
    "def greet(name, greeting='Hello'):\n",
    "    print(f'{greeting}, {name}!')\n",
    "\n",
    "# Call the function with two arguments\n",
    "#greet('John', 'Welcome')  # Outputs: Welcome, John!\n",
    "\n",
    "# Call the function with one argument\n",
    "#greet('John')  # Outputs: Hello, John!"
   ]
  },
  {
   "cell_type": "markdown",
   "id": "842a9b52",
   "metadata": {},
   "source": [
    "Python functions can return multiple values. These values are returned as a tuple. Here is an example:"
   ]
  },
  {
   "cell_type": "code",
   "execution_count": null,
   "id": "b90492db",
   "metadata": {},
   "outputs": [],
   "source": [
    "def min_max(numbers):\n",
    "    return min(numbers), max(numbers)\n",
    "\n",
    "# Call the function\n",
    "#min_value, max_value = min_max([1, 2, 3, 4, 5])\n",
    "#print(min_value)  # Outputs: 1\n",
    "#print(max_value)  # Outputs: 5"
   ]
  },
  {
   "cell_type": "markdown",
   "id": "5f1f2f4f",
   "metadata": {},
   "source": [
    "Python functions can be recursive, which means they can call themselves. Here is an example of a recursive function that calculates the factorial of a number:"
   ]
  },
  {
   "cell_type": "code",
   "execution_count": null,
   "id": "f1903bf9",
   "metadata": {},
   "outputs": [],
   "source": [
    "def factorial(n):\n",
    "    if n == 1:\n",
    "        return 1\n",
    "    else:\n",
    "        return n * factorial(n-1)\n",
    "\n",
    "# Call the function\n",
    "#result = factorial(5)\n",
    "#print(result)  # Outputs: 120"
   ]
  },
  {
   "cell_type": "markdown",
   "id": "5740a71d",
   "metadata": {},
   "source": [
    "Python Modules are files containing Python code. This code can define functions, classes and variables. A module can also include runnable code. Grouping related code into a module makes the code easier to understand and use."
   ]
  },
  {
   "cell_type": "code",
   "execution_count": null,
   "id": "b77e88be",
   "metadata": {},
   "outputs": [],
   "source": [
    "import math\n",
    "\n",
    "print(math.pi)"
   ]
  },
  {
   "cell_type": "markdown",
   "id": "b556b62f",
   "metadata": {},
   "source": [
    "You can import specific attributes or functions only, instead of importing the whole module. This is done using the 'from' keyword."
   ]
  },
  {
   "cell_type": "code",
   "execution_count": null,
   "id": "11580594",
   "metadata": {},
   "outputs": [],
   "source": [
    "from math import pi\n",
    "\n",
    "print(pi)"
   ]
  },
  {
   "cell_type": "markdown",
   "id": "59f09130",
   "metadata": {},
   "source": [
    "Python's 'as' keyword can be used to create an alias for the module, making it easier to access."
   ]
  },
  {
   "cell_type": "code",
   "execution_count": null,
   "id": "d581e598",
   "metadata": {},
   "outputs": [],
   "source": [
    "import math as m\n",
    "\n",
    "print(m.pi)"
   ]
  },
  {
   "cell_type": "markdown",
   "id": "d957ba91",
   "metadata": {},
   "source": [
    "Python's 'dir()' function returns all properties and methods of the specified object, without the values. This function will return all the built-in module functions if no parameters are passed."
   ]
  },
  {
   "cell_type": "code",
   "execution_count": null,
   "id": "b224091b",
   "metadata": {},
   "outputs": [],
   "source": [
    "import math\n",
    "\n",
    "dir(math)"
   ]
  },
  {
   "cell_type": "markdown",
   "id": "e82cfdbb",
   "metadata": {},
   "source": [
    "Python Exceptions are errors detected during execution of program. When these errors occur, Python generates an exception that can be handled, which avoids your program to crash. Here is a basic example of Python exception handling using try-except block."
   ]
  },
  {
   "cell_type": "code",
   "execution_count": null,
   "id": "e3733105",
   "metadata": {},
   "outputs": [],
   "source": [
    "try:\n",
    "    a = 50\n",
    "    b = 0\n",
    "    c = a / b\n",
    "except ZeroDivisionError:\n",
    "    print(\"Can't divide by zero\")"
   ]
  },
  {
   "cell_type": "markdown",
   "id": "557503be",
   "metadata": {},
   "source": [
    "This Python code demonstrates how to open, read, and write to files."
   ]
  },
  {
   "cell_type": "code",
   "execution_count": null,
   "id": "3e645af0",
   "metadata": {},
   "outputs": [],
   "source": [
    "with open('example.txt', 'r') as file:\n",
    "    data = file.read()\n",
    "print(data)\n",
    "\n",
    "with open('example.txt', 'w') as file:\n",
    "    file.write('Hello, World!')"
   ]
  },
  {
   "cell_type": "markdown",
   "id": "e4693ad7",
   "metadata": {},
   "source": [
    "Python is a high-level, interpreted, interactive and object-oriented scripting language. Python is designed to be highly readable. It uses English keywords frequently where as other languages use punctuation, and it has fewer syntactical constructions than other languages."
   ]
  },
  {
   "cell_type": "code",
   "execution_count": null,
   "id": "55eebec5",
   "metadata": {},
   "outputs": [],
   "source": [
    "class MyClass:\n",
    "    x = 5\n",
    "\n",
    "p1 = MyClass()\n",
    "print(p1.x)"
   ]
  },
  {
   "cell_type": "markdown",
   "id": "74575dff",
   "metadata": {},
   "source": [
    "Python is an object-oriented programming language. You use classes to create objects, which are instances of classes. An object has properties and methods."
   ]
  },
  {
   "cell_type": "code",
   "execution_count": null,
   "id": "1a9302f1",
   "metadata": {},
   "outputs": [],
   "source": [
    "class Person:\n",
    "    def __init__(self, name, age):\n",
    "        self.name = name\n",
    "        self.age = age\n",
    "\n",
    "p1 = Person(\"John\", 36)\n",
    "\n",
    "print(p1.name)\n",
    "print(p1.age)"
   ]
  },
  {
   "cell_type": "markdown",
   "id": "4fd652bb",
   "metadata": {},
   "source": [
    "In Python, the self parameter is a reference to the current instance of the class, and is used to access variables that belongs to the class."
   ]
  },
  {
   "cell_type": "code",
   "execution_count": null,
   "id": "0572f2e9",
   "metadata": {},
   "outputs": [],
   "source": [
    "class Person:\n",
    "    def __init__(self, name, age):\n",
    "        self.name = name\n",
    "        self.age = age\n",
    "\n",
    "    def myfunc(self):\n",
    "        print(\"Hello my name is \" + self.name)\n",
    "\n",
    "p1 = Person(\"John\", 36)\n",
    "p1.myfunc()"
   ]
  },
  {
   "cell_type": "markdown",
   "id": "9c6aa1b3",
   "metadata": {},
   "source": [
    "You can modify properties on objects like this:"
   ]
  },
  {
   "cell_type": "code",
   "execution_count": null,
   "id": "b7cba9e0",
   "metadata": {},
   "outputs": [],
   "source": [
    "p1.age = 40"
   ]
  },
  {
   "cell_type": "markdown",
   "id": "b0d389df",
   "metadata": {},
   "source": [
    "You can delete properties on objects by using the del keyword:"
   ]
  },
  {
   "cell_type": "code",
   "execution_count": null,
   "id": "8a205442",
   "metadata": {},
   "outputs": [],
   "source": [
    "del p1.age"
   ]
  },
  {
   "cell_type": "markdown",
   "id": "e424c9cb",
   "metadata": {},
   "source": [
    "You can delete objects by using the del keyword:"
   ]
  },
  {
   "cell_type": "code",
   "execution_count": null,
   "id": "bd704c90",
   "metadata": {},
   "outputs": [],
   "source": [
    "del p1"
   ]
  }
 ],
 "metadata": {
  "kernelspec": {
   "display_name": "Python 3",
   "name": "python3"
  },
  "language_info": {
   "name": "python",
   "version": "3.8.5"
  }
 },
 "nbformat": 4,
 "nbformat_minor": 5
}
