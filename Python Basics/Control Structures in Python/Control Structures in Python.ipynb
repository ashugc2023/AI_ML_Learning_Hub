{
 "cells": [
  {
   "cell_type": "markdown",
   "id": "fc716fe4",
   "metadata": {},
   "source": [
    "***Subject Python Basic"
   ]
  },
  {
   "cell_type": "markdown",
   "id": "daf0647c",
   "metadata": {},
   "source": [
    "***LevelBeginner"
   ]
  },
  {
   "cell_type": "markdown",
   "id": "544057e7",
   "metadata": {},
   "source": [
    "***HeadlineIntroduction to Python Programming"
   ]
  },
  {
   "cell_type": "markdown",
   "id": "95f4cc50",
   "metadata": {},
   "source": [
    "***OverviewPython is a high-level, interpreted, interactive and object-oriented scripting language. Python is designed to be highly readable. It uses English keywords frequently where as other languages use punctuation, and it has fewer syntactical constructions than other languages."
   ]
  },
  {
   "cell_type": "markdown",
   "id": "6455a09e",
   "metadata": {},
   "source": [
    "***Objective"
   ]
  },
  {
   "cell_type": "markdown",
   "id": "508b370a",
   "metadata": {},
   "source": [
    "Understand the basics of Python programming language"
   ]
  },
  {
   "cell_type": "markdown",
   "id": "af75a0c9",
   "metadata": {},
   "source": [
    "Learn about data types, variables, and operators in Python"
   ]
  },
  {
   "cell_type": "markdown",
   "id": "695eadd0",
   "metadata": {},
   "source": [
    "Get introduced to control structures in Python"
   ]
  },
  {
   "cell_type": "markdown",
   "id": "95b33086",
   "metadata": {},
   "source": [
    "Learn about functions and modules in Python"
   ]
  },
  {
   "cell_type": "markdown",
   "id": "26b85d98",
   "metadata": {},
   "source": [
    "Understand how to handle errors and exceptions in Python"
   ]
  },
  {
   "cell_type": "markdown",
   "id": "c19b8f97",
   "metadata": {},
   "source": [
    "Understand the basics of Python programming language"
   ]
  },
  {
   "cell_type": "markdown",
   "id": "c1bfcea8",
   "metadata": {},
   "source": [
    "Learn about data types, variables, and operators in Python"
   ]
  },
  {
   "cell_type": "markdown",
   "id": "8fad694c",
   "metadata": {},
   "source": [
    "Get introduced to control structures in Python"
   ]
  },
  {
   "cell_type": "markdown",
   "id": "1083e628",
   "metadata": {},
   "source": [
    "Learn about functions and modules in Python"
   ]
  },
  {
   "cell_type": "markdown",
   "id": "2e47907d",
   "metadata": {},
   "source": [
    "Understand how to handle errors and exceptions in Python"
   ]
  },
  {
   "cell_type": "markdown",
   "id": "fbbe0e54",
   "metadata": {},
   "source": [
    "Understand the basics of Python programming language"
   ]
  },
  {
   "cell_type": "markdown",
   "id": "968d947b",
   "metadata": {},
   "source": [
    "Learn about data types, variables, and operators in Python"
   ]
  },
  {
   "cell_type": "markdown",
   "id": "4b88314c",
   "metadata": {},
   "source": [
    "Get introduced to control structures in Python"
   ]
  },
  {
   "cell_type": "markdown",
   "id": "4821b13c",
   "metadata": {},
   "source": [
    "Learn about functions and modules in Python"
   ]
  },
  {
   "cell_type": "markdown",
   "id": "5ef1c49b",
   "metadata": {},
   "source": [
    "Understand how to handle errors and exceptions in Python"
   ]
  },
  {
   "cell_type": "markdown",
   "id": "e80f5414",
   "metadata": {},
   "source": [
    "Understand the basics of Python programming language"
   ]
  },
  {
   "cell_type": "markdown",
   "id": "3eb21dae",
   "metadata": {},
   "source": [
    "Learn about data types, variables, and operators in Python"
   ]
  },
  {
   "cell_type": "markdown",
   "id": "023b03c5",
   "metadata": {},
   "source": [
    "Get introduced to control structures in Python"
   ]
  },
  {
   "cell_type": "markdown",
   "id": "eb9b4b2f",
   "metadata": {},
   "source": [
    "Learn about functions and modules in Python"
   ]
  },
  {
   "cell_type": "markdown",
   "id": "e6c4f68b",
   "metadata": {},
   "source": [
    "Understand how to handle errors and exceptions in Python"
   ]
  },
  {
   "cell_type": "markdown",
   "id": "618694a3",
   "metadata": {},
   "source": [
    "Control structures in Python help you control the flow of your program's execution based on certain conditions or loops. Here, we will introduce the basic control structures in Python: if-else, for loop, and while loop."
   ]
  },
  {
   "cell_type": "code",
   "execution_count": null,
   "id": "8c1df4b7",
   "metadata": {},
   "outputs": [],
   "source": [
    "if 5 > 2:\n",
    "    print(\"5 is greater than 2\")\n",
    "else:\n",
    "    print(\"5 is not greater than 2\")\n",
    "\n",
    "for i in range(5):\n",
    "    print(i)\n",
    "\n",
    "j = 0\n",
    "while j < 5:\n",
    "    print(j)\n",
    "    j += 1"
   ]
  },
  {
   "cell_type": "markdown",
   "id": "847ff13a",
   "metadata": {},
   "source": [
    "Understanding the Flow of Control in Python: Python uses indentation to define control and loop constructs. This makes the code easy to read and understand."
   ]
  },
  {
   "cell_type": "code",
   "execution_count": null,
   "id": "acc521dd",
   "metadata": {},
   "outputs": [],
   "source": [
    "for i in range(10):\n",
    "    if i < 5:\n",
    "        print(\"The number {} is less than 5\".format(i))\n",
    "    else:\n",
    "        print(\"The number {} is greater than or equal to 5\".format(i))"
   ]
  },
  {
   "cell_type": "markdown",
   "id": "3e927008",
   "metadata": {},
   "source": [
    "This Python code demonstrates how to use conditional statements. The if statement is used to test a specific condition. If the condition is true, a block of code (if block) will be executed. The else statement is used to specify a block of code to be executed if the condition is false."
   ]
  },
  {
   "cell_type": "code",
   "execution_count": null,
   "id": "29da4955",
   "metadata": {},
   "outputs": [],
   "source": [
    "x = 10\n",
    "y = 5\n",
    "if x > y:\n",
    "    print(\"x is greater than y\")\n",
    "else:\n",
    "    print(\"x is not greater than y\")"
   ]
  },
  {
   "cell_type": "markdown",
   "id": "a4193bb0",
   "metadata": {},
   "source": [
    "The elif keyword is a way of saying \"if the previous conditions were not true, then try this condition\"."
   ]
  },
  {
   "cell_type": "code",
   "execution_count": null,
   "id": "ea41ebd4",
   "metadata": {},
   "outputs": [],
   "source": [
    "x = 10\n",
    "y = 10\n",
    "if x > y:\n",
    "    print(\"x is greater than y\")\n",
    "elif x == y:\n",
    "    print(\"x and y are equal\")\n",
    "else:\n",
    "    print(\"x is not greater than y\")"
   ]
  },
  {
   "cell_type": "markdown",
   "id": "ae6c2d29",
   "metadata": {},
   "source": [
    "The pass statement is used as a placeholder for future code. When the pass statement is executed, nothing happens, but you avoid getting an error when empty code is not allowed."
   ]
  },
  {
   "cell_type": "code",
   "execution_count": null,
   "id": "1dee1453",
   "metadata": {},
   "outputs": [],
   "source": [
    "x = 10\n",
    "y = 5\n",
    "if x > y:\n",
    "    pass"
   ]
  },
  {
   "cell_type": "markdown",
   "id": "eb593b37",
   "metadata": {},
   "source": [
    "This Python code demonstrates the use of an if statement. An if statement is a conditional statement that runs or skips code based on whether a condition is true or false."
   ]
  },
  {
   "cell_type": "code",
   "execution_count": null,
   "id": "bb32248a",
   "metadata": {},
   "outputs": [],
   "source": [
    "x = 10\n",
    "if x > 5:\n",
    "    print(\"x is greater than 5\")"
   ]
  },
  {
   "cell_type": "markdown",
   "id": "6bdc8392",
   "metadata": {},
   "source": [
    "This Python code demonstrates the use of If-Else statement. The If-Else statement in Python allows us to test a condition and perform an action accordingly. If the condition is true, the block of code under the 'if' clause is executed. If the condition is false, the block of code under the 'else' clause is executed."
   ]
  },
  {
   "cell_type": "code",
   "execution_count": null,
   "id": "b4a35866",
   "metadata": {},
   "outputs": [],
   "source": [
    "a = 10\n",
    "b = 20\n",
    "if a < b:\n",
    "    print(\"a is less than b\")\n",
    "else:\n",
    "    print(\"a is not less than b\")"
   ]
  },
  {
   "cell_type": "markdown",
   "id": "99f4b9e4",
   "metadata": {},
   "source": [
    "This Python code demonstrates the use of If-Elif-Else statement."
   ]
  },
  {
   "cell_type": "code",
   "execution_count": null,
   "id": "ae096995",
   "metadata": {},
   "outputs": [],
   "source": [
    "x = 20\n",
    "if x > 10:\n",
    "    print(\"x is greater than 10\")\n",
    "elif x > 5:\n",
    "    print(\"x is greater than 5 but less than or equal to 10\")\n",
    "else:\n",
    "    print(\"x is less than or equal to 5\")"
   ]
  },
  {
   "cell_type": "markdown",
   "id": "05e55d33",
   "metadata": {},
   "source": [
    "This Python code demonstrates the basic looping statements in Python. The 'for' loop is used to iterate over a sequence (list, tuple, string) or other iterable objects. Iterating over a sequence is called traversal."
   ]
  },
  {
   "cell_type": "code",
   "execution_count": null,
   "id": "bb0f12cb",
   "metadata": {},
   "outputs": [],
   "source": [
    "list = [1, 3, 5, 7, 9]\n",
    "for i in list:\n",
    "    print(i)"
   ]
  },
  {
   "cell_type": "markdown",
   "id": "a1faecd7",
   "metadata": {},
   "source": [
    "This Python code demonstrates the 'while' loop in Python. The while loop in Python is used to iterate over a block of code as long as the test expression (condition) is true."
   ]
  },
  {
   "cell_type": "code",
   "execution_count": null,
   "id": "28c2c3b1",
   "metadata": {},
   "outputs": [],
   "source": [
    "i = 1\n",
    "while i < 6:\n",
    "  print(i)\n",
    "  i += 1"
   ]
  },
  {
   "cell_type": "markdown",
   "id": "44456097",
   "metadata": {},
   "source": [
    "This Python code demonstrates the 'break' statement in Python. The break statement terminates the loop containing it. Control of the program flows to the statement immediately after the body of the loop."
   ]
  },
  {
   "cell_type": "code",
   "execution_count": null,
   "id": "9ec4a4fd",
   "metadata": {},
   "outputs": [],
   "source": [
    "for val in \"string\":\n",
    "    if val == \"i\":\n",
    "        break\n",
    "    print(val)"
   ]
  },
  {
   "cell_type": "markdown",
   "id": "a10e24a9",
   "metadata": {},
   "source": [
    "This Python code demonstrates the 'continue' statement in Python. The continue statement is used to skip the rest of the code inside a loop for the current iteration only. Loop does not terminate but continues on with the next iteration."
   ]
  },
  {
   "cell_type": "code",
   "execution_count": null,
   "id": "afdc39fc",
   "metadata": {},
   "outputs": [],
   "source": [
    "for val in \"string\":\n",
    "    if val == \"i\":\n",
    "        continue\n",
    "    print(val)"
   ]
  },
  {
   "cell_type": "markdown",
   "id": "c1b11065",
   "metadata": {},
   "source": [
    "This Python code demonstrates the 'pass' statement in Python. It is used when a statement is required syntactically but you do not want any command or code to execute."
   ]
  },
  {
   "cell_type": "code",
   "execution_count": null,
   "id": "3463f44d",
   "metadata": {},
   "outputs": [],
   "source": [
    "sequence = {'p', 'a', 's', 's'}\n",
    "for val in sequence:\n",
    "    pass"
   ]
  },
  {
   "cell_type": "markdown",
   "id": "feb54976",
   "metadata": {},
   "source": [
    "This Python code demonstrates the use of a while loop. A while loop will continue to execute as long as the condition in the loop remains true."
   ]
  },
  {
   "cell_type": "code",
   "execution_count": null,
   "id": "db5169cc",
   "metadata": {},
   "outputs": [],
   "source": [
    "count = 0\n",
    "while (count < 5):\n",
    "   print(count)\n",
    "   count += 1\n",
    "else:\n",
    "   print(\"count value reached %d\" %(count))"
   ]
  },
  {
   "cell_type": "markdown",
   "id": "7a44fcd1",
   "metadata": {},
   "source": [
    "This Python code demonstrates the basic usage of a for loop."
   ]
  },
  {
   "cell_type": "code",
   "execution_count": null,
   "id": "9fdf90fd",
   "metadata": {},
   "outputs": [],
   "source": [
    "for i in range(5):\n",
    "    print(i)"
   ]
  },
  {
   "cell_type": "markdown",
   "id": "9d9738c9",
   "metadata": {},
   "source": [
    "This Python code demonstrates the use of break and continue statements. The break statement is used to exit the current loop before its normal ending. This is achieved by jumping out of the loop and not executing the remaining iterations. The continue statement is used to skip the rest of the code inside a loop for the current iteration only. The loop does not terminate but continues on with the next iteration."
   ]
  },
  {
   "cell_type": "code",
   "execution_count": null,
   "id": "47ff4ff5",
   "metadata": {},
   "outputs": [],
   "source": [
    "for num in range(2, 10):\n",
    "    if num % 2 == 0:\n",
    "        print(\"Found an even number\", num)\n",
    "        continue\n",
    "    print(\"Found a number\", num)"
   ]
  },
  {
   "cell_type": "markdown",
   "id": "460c48ef",
   "metadata": {},
   "source": [
    "The pass statement in Python is used when a statement is required syntactically but you do not want any command or code to execute. It is like a placeholder in situations where your code will eventually go, but has not been written yet."
   ]
  },
  {
   "cell_type": "code",
   "execution_count": null,
   "id": "9daf7281",
   "metadata": {},
   "outputs": [],
   "source": [
    "for letter in 'Python':\n",
    "   if letter == 'h':\n",
    "      pass\n",
    "      print('This is pass block')\n",
    "   print('Current Letter :', letter)"
   ]
  },
  {
   "cell_type": "markdown",
   "id": "93d273cb",
   "metadata": {},
   "source": [
    "This Python code demonstrates how to use control structures. Here, we will use if-else statements and for loop to iterate over a list of numbers and print whether each number is even or odd."
   ]
  },
  {
   "cell_type": "code",
   "execution_count": null,
   "id": "b3fe7273",
   "metadata": {},
   "outputs": [],
   "source": [
    "numbers = [1, 2, 3, 4, 5]\n",
    "for num in numbers:\n",
    "    if num % 2 == 0:\n",
    "        print(str(num) + \" is even\")\n",
    "    else:\n",
    "        print(str(num) + \" is odd\")"
   ]
  }
 ],
 "metadata": {
  "kernelspec": {
   "display_name": "Python 3",
   "name": "python3"
  },
  "language_info": {
   "name": "python",
   "version": "3.8.5"
  }
 },
 "nbformat": 4,
 "nbformat_minor": 5
}
