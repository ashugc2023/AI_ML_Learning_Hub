{
 "cells": [
  {
   "cell_type": "markdown",
   "id": "da5ce4b4",
   "metadata": {},
   "source": [
    "***Subject Python Basic"
   ]
  },
  {
   "cell_type": "markdown",
   "id": "8ffc5646",
   "metadata": {},
   "source": [
    "***LevelBeginner"
   ]
  },
  {
   "cell_type": "markdown",
   "id": "92b75a22",
   "metadata": {},
   "source": [
    "***HeadlineIntroduction to Python Programming"
   ]
  },
  {
   "cell_type": "markdown",
   "id": "5d833aa0",
   "metadata": {},
   "source": [
    "***OverviewPython is a high-level, interpreted, interactive and object-oriented scripting language. Python is designed to be highly readable. It uses English keywords frequently where as other languages use punctuation, and it has fewer syntactical constructions than other languages."
   ]
  },
  {
   "cell_type": "markdown",
   "id": "1648ca3d",
   "metadata": {},
   "source": [
    "***Objective"
   ]
  },
  {
   "cell_type": "markdown",
   "id": "1e1da918",
   "metadata": {},
   "source": [
    "Understand the basics of Python programming language"
   ]
  },
  {
   "cell_type": "markdown",
   "id": "fdf1e605",
   "metadata": {},
   "source": [
    "Learn about data types, variables, and operators in Python"
   ]
  },
  {
   "cell_type": "markdown",
   "id": "b2ae8682",
   "metadata": {},
   "source": [
    "Get introduced to control structures in Python"
   ]
  },
  {
   "cell_type": "markdown",
   "id": "a362bcdf",
   "metadata": {},
   "source": [
    "Learn about functions and modules in Python"
   ]
  },
  {
   "cell_type": "markdown",
   "id": "c64045ee",
   "metadata": {},
   "source": [
    "Understand how to handle errors and exceptions in Python"
   ]
  },
  {
   "cell_type": "markdown",
   "id": "5c78ea58",
   "metadata": {},
   "source": [
    "Understand the basics of Python programming language"
   ]
  },
  {
   "cell_type": "markdown",
   "id": "816fe573",
   "metadata": {},
   "source": [
    "Learn about data types, variables, and operators in Python"
   ]
  },
  {
   "cell_type": "markdown",
   "id": "11da2a6a",
   "metadata": {},
   "source": [
    "Get introduced to control structures in Python"
   ]
  },
  {
   "cell_type": "markdown",
   "id": "67ffdf0b",
   "metadata": {},
   "source": [
    "Learn about functions and modules in Python"
   ]
  },
  {
   "cell_type": "markdown",
   "id": "5d632511",
   "metadata": {},
   "source": [
    "Understand how to handle errors and exceptions in Python"
   ]
  },
  {
   "cell_type": "markdown",
   "id": "e704fe29",
   "metadata": {},
   "source": [
    "Understand the basics of Python programming language"
   ]
  },
  {
   "cell_type": "markdown",
   "id": "a4c53a9f",
   "metadata": {},
   "source": [
    "Learn about data types, variables, and operators in Python"
   ]
  },
  {
   "cell_type": "markdown",
   "id": "0d4fafdd",
   "metadata": {},
   "source": [
    "Get introduced to control structures in Python"
   ]
  },
  {
   "cell_type": "markdown",
   "id": "ed3c2def",
   "metadata": {},
   "source": [
    "Learn about functions and modules in Python"
   ]
  },
  {
   "cell_type": "markdown",
   "id": "60af1541",
   "metadata": {},
   "source": [
    "Understand how to handle errors and exceptions in Python"
   ]
  },
  {
   "cell_type": "markdown",
   "id": "66990e37",
   "metadata": {},
   "source": [
    "Understand the basics of Python programming language"
   ]
  },
  {
   "cell_type": "markdown",
   "id": "d0ed40cc",
   "metadata": {},
   "source": [
    "Learn about data types, variables, and operators in Python"
   ]
  },
  {
   "cell_type": "markdown",
   "id": "7a14f391",
   "metadata": {},
   "source": [
    "Get introduced to control structures in Python"
   ]
  },
  {
   "cell_type": "markdown",
   "id": "4054aa7c",
   "metadata": {},
   "source": [
    "Learn about functions and modules in Python"
   ]
  },
  {
   "cell_type": "markdown",
   "id": "2ea5b808",
   "metadata": {},
   "source": [
    "Understand how to handle errors and exceptions in Python"
   ]
  },
  {
   "cell_type": "markdown",
   "id": "e381c4cc",
   "metadata": {},
   "source": [
    "Understand the basics of Python programming language"
   ]
  },
  {
   "cell_type": "markdown",
   "id": "d04cc29e",
   "metadata": {},
   "source": [
    "Learn about data types, variables, and operators in Python"
   ]
  },
  {
   "cell_type": "markdown",
   "id": "d6bdea09",
   "metadata": {},
   "source": [
    "Get introduced to control structures in Python"
   ]
  },
  {
   "cell_type": "markdown",
   "id": "62cea260",
   "metadata": {},
   "source": [
    "Learn about functions and modules in Python"
   ]
  },
  {
   "cell_type": "markdown",
   "id": "efa5a051",
   "metadata": {},
   "source": [
    "Understand how to handle errors and exceptions in Python"
   ]
  },
  {
   "cell_type": "markdown",
   "id": "4d93ca3d",
   "metadata": {},
   "source": [
    "Introduction to Functions in Python: Functions in Python are blocks of reusable code that perform a specific task. They help break our program into smaller and modular chunks for better organization and code reusability. Here's a simple example of a function in Python."
   ]
  },
  {
   "cell_type": "code",
   "execution_count": null,
   "id": "d0c1d059",
   "metadata": {},
   "outputs": [],
   "source": [
    "def greet(name):\n",
    "    \"\"\"This function greets the person passed in as parameter\"\"\"\n",
    "    print(\"Hello, \" + name + \". Good morning!\")\n",
    "\n",
    "greet('Paul')"
   ]
  },
  {
   "cell_type": "markdown",
   "id": "f53b410e",
   "metadata": {},
   "source": [
    "This Python code demonstrates how to define and call a function. The function defined here is named 'greet' and it takes one parameter 'name'. The function is then called with the argument 'World'."
   ]
  },
  {
   "cell_type": "code",
   "execution_count": null,
   "id": "628f66a3",
   "metadata": {},
   "outputs": [],
   "source": [
    "def greet(name):\n",
    "    print(f'Hello, {name}!')\n",
    "\n",
    "greet('World')"
   ]
  },
  {
   "cell_type": "markdown",
   "id": "281c57dd",
   "metadata": {},
   "source": [
    "In Python, functions are defined using the def keyword. Arguments are specified after the function name, inside the parentheses. You can add as many arguments as you want, just separate them with a comma. Parameters or Arguments? The terms parameter and argument can be used for the same thing: information that are passed into a function."
   ]
  },
  {
   "cell_type": "code",
   "execution_count": null,
   "id": "0b5d5ee8",
   "metadata": {},
   "outputs": [],
   "source": [
    "def my_function(fname, lname):\n",
    "  print(fname + \" \" + lname)\n",
    "\n",
    "my_function(\"John\", \"Doe\")"
   ]
  },
  {
   "cell_type": "markdown",
   "id": "c2e38bc3",
   "metadata": {},
   "source": [
    "In Python, functions can return values using the return statement. The value that a function returns to the caller is generally known as the function's return value. All Python functions have a return value, even if it's None (which is the default return value if the function doesn't specify otherwise). Here is a simple example of a function with a return value."
   ]
  },
  {
   "cell_type": "code",
   "execution_count": null,
   "id": "f970e3fc",
   "metadata": {},
   "outputs": [],
   "source": [
    "def add_numbers(a, b):\n",
    "    return a + b\n",
    "\n",
    "result = add_numbers(5, 10)\n",
    "print(result)"
   ]
  },
  {
   "cell_type": "markdown",
   "id": "e245b357",
   "metadata": {},
   "source": [
    "In Python, a variable declared outside of the function or in global scope is known as a global variable. This means that a global variable can be accessed inside or outside of the function. Let's see an example on how a global variable is created in Python."
   ]
  },
  {
   "cell_type": "code",
   "execution_count": null,
   "id": "124fe7c1",
   "metadata": {},
   "outputs": [],
   "source": [
    "x = \"global\"\n",
    "\n",
    "def foo():\n",
    "    print(\"x inside :\", x)\n",
    "\n",
    "foo()\n",
    "print(\"x outside:\", x)"
   ]
  },
  {
   "cell_type": "markdown",
   "id": "867ae30f",
   "metadata": {},
   "source": [
    "A variable declared inside the function's body or in the local scope is known as a local variable. If we try to access local variable outside the function then it will give an error. Let's see an example on how a local variable is created in Python."
   ]
  },
  {
   "cell_type": "code",
   "execution_count": null,
   "id": "0d5d3c8e",
   "metadata": {},
   "outputs": [],
   "source": [
    "def foo():\n",
    "    y = \"local\"\n",
    "    print(y)\n",
    "\n",
    "foo()"
   ]
  },
  {
   "cell_type": "markdown",
   "id": "67ec706c",
   "metadata": {},
   "source": [
    "A variable declared inside the function is known as a local variable. But if we want to make it a global variable then we can use the 'global' keyword. Let's see an example on how to create a global variable inside a function in Python."
   ]
  },
  {
   "cell_type": "code",
   "execution_count": null,
   "id": "fd676be9",
   "metadata": {},
   "outputs": [],
   "source": [
    "def foo():\n",
    "    global x\n",
    "    x = \"local\"\n",
    "\n",
    "foo()\n",
    "print(\"x:\", x)"
   ]
  },
  {
   "cell_type": "markdown",
   "id": "a4518c08",
   "metadata": {},
   "source": [
    "In Python, a variable declared inside the function's body or in the local scope is known as a local variable. If we try to access local variable outside the function then it will give an error. Let's see an example on how a local variable is created in Python."
   ]
  },
  {
   "cell_type": "code",
   "execution_count": null,
   "id": "5db547c9",
   "metadata": {},
   "outputs": [],
   "source": [
    "def foo():\n",
    "    y = \"local\"\n",
    "    print(y)\n",
    "\n",
    "foo()"
   ]
  },
  {
   "cell_type": "markdown",
   "id": "84ced991",
   "metadata": {},
   "source": [
    "In Python, a variable declared inside the function is known as a local variable. But if we want to make it a global variable then we can use the 'global' keyword. Let's see an example on how to create a global variable inside a function in Python."
   ]
  },
  {
   "cell_type": "code",
   "execution_count": null,
   "id": "8eba97eb",
   "metadata": {},
   "outputs": [],
   "source": [
    "def foo():\n",
    "    global x\n",
    "    x = \"local\"\n",
    "\n",
    "foo()\n",
    "print(\"x:\", x)"
   ]
  },
  {
   "cell_type": "markdown",
   "id": "3375cbdc",
   "metadata": {},
   "source": [
    "Introduction to Modules in Python: A module is a file containing Python definitions and statements. The file name is the module name with the suffix .py added. We can use any Python source file as a module by executing an import statement in some other Python source file."
   ]
  },
  {
   "cell_type": "code",
   "execution_count": null,
   "id": "417aacea",
   "metadata": {},
   "outputs": [],
   "source": [
    "import math\n",
    "\n",
    "# using square root(sqrt) function contained \n",
    "# in math module\n",
    "print(math.sqrt(25))\n",
    "\n",
    "# using pi function contained in math module\n",
    "print(math.pi)\n",
    "\n",
    "# 2 radians = 114.59 degreees\n",
    "print(math.degrees(2))\n",
    "\n",
    "# 60 degrees = 1.04 radians\n",
    "print(math.radians(60))\n",
    "\n",
    "# Sine of 2 radians\n",
    "print(math.sin(2))\n",
    "\n",
    "# Cosine of 0.5 radians\n",
    "print(math.cos(0.5))\n",
    "\n",
    "# Tangent of 0.23 radians\n",
    "print(math.tan(0.23))\n",
    "\n",
    "# 1 * 2 * 3 * 4 = 24\n",
    "print(math.factorial(4))"
   ]
  },
  {
   "cell_type": "markdown",
   "id": "e2a45d1d",
   "metadata": {},
   "source": [
    "This Python code demonstrates how to import modules. The `math` module is imported, and then its `sqrt` function is used to calculate the square root of a number."
   ]
  },
  {
   "cell_type": "code",
   "execution_count": null,
   "id": "f9b1b713",
   "metadata": {},
   "outputs": [],
   "source": [
    "import math\n",
    "\n",
    "# Use the sqrt function from the math module\n",
    "def calculate_square_root(number):\n",
    "    return math.sqrt(number)\n",
    "\n",
    "# Test the function\n",
    "print(calculate_square_root(9))"
   ]
  },
  {
   "cell_type": "markdown",
   "id": "760f0efb",
   "metadata": {},
   "source": [
    "In Python, we can use functions from modules by first importing the module using the `import` keyword. Once the module is imported, we can use its functions by calling them using the dot notation. Here is an example of using the `sqrt` function from the `math` module."
   ]
  },
  {
   "cell_type": "code",
   "execution_count": null,
   "id": "59759299",
   "metadata": {},
   "outputs": [],
   "source": [
    "import math\n",
    "\n",
    "# Using sqrt function from math module\n",
    "sqrt_of_16 = math.sqrt(16)\n",
    "print(sqrt_of_16)"
   ]
  },
  {
   "cell_type": "markdown",
   "id": "e1b5f0c6",
   "metadata": {},
   "source": [
    "This Python code demonstrates how to explore built-in modules in Python. We will use the math module as an example."
   ]
  },
  {
   "cell_type": "code",
   "execution_count": null,
   "id": "51a4538d",
   "metadata": {},
   "outputs": [],
   "source": [
    "import math\n",
    "\n",
    "# Using the sqrt function from math module\n",
    "print(math.sqrt(16))\n",
    "\n",
    "# Using the pi constant from math module\n",
    "print(math.pi)"
   ]
  },
  {
   "cell_type": "markdown",
   "id": "9f7ae13f",
   "metadata": {},
   "source": [
    "This Python code demonstrates how to create and use custom modules. A module is a file containing Python definitions and statements. The file name is the module name with the suffix .py added. We can use any Python source file as a module by executing an import statement in some other Python source file."
   ]
  },
  {
   "cell_type": "code",
   "execution_count": null,
   "id": "e6660c87",
   "metadata": {},
   "outputs": [],
   "source": [
    "## Creating a module named mymodule\n",
    "\n",
    "# mymodule.py\n",
    "def greeting(name):\n",
    "  print(\"Hello, \" + name)\n",
    "\n",
    "## Using the module\n",
    "\n",
    "# import the module\n",
    "import mymodule\n",
    "\n",
    "# call the function from the module\n",
    "mymodule.greeting(\"John\")"
   ]
  }
 ],
 "metadata": {
  "kernelspec": {
   "display_name": "Python 3",
   "name": "python3"
  },
  "language_info": {
   "name": "python",
   "version": "3.8.5"
  }
 },
 "nbformat": 4,
 "nbformat_minor": 5
}
