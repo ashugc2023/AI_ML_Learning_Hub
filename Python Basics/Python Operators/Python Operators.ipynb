{
 "cells": [
  {
   "cell_type": "markdown",
   "id": "3c81239a",
   "metadata": {},
   "source": [
    "***Subject Python Basic"
   ]
  },
  {
   "cell_type": "markdown",
   "id": "9705a81b",
   "metadata": {},
   "source": [
    "***LevelBeginner"
   ]
  },
  {
   "cell_type": "markdown",
   "id": "719515a2",
   "metadata": {},
   "source": [
    "***HeadlineIntroduction to Python Programming"
   ]
  },
  {
   "cell_type": "markdown",
   "id": "f62251b6",
   "metadata": {},
   "source": [
    "***OverviewPython is a high-level, interpreted, interactive and object-oriented scripting language. Python is designed to be highly readable. It uses English keywords frequently where as other languages use punctuation, and it has fewer syntactical constructions than other languages."
   ]
  },
  {
   "cell_type": "markdown",
   "id": "54e9a902",
   "metadata": {},
   "source": [
    "***Objective"
   ]
  },
  {
   "cell_type": "markdown",
   "id": "c09d16bc",
   "metadata": {},
   "source": [
    "Understand the basics of Python programming language"
   ]
  },
  {
   "cell_type": "markdown",
   "id": "f80f8c0b",
   "metadata": {},
   "source": [
    "Learn about data types, variables, and operators in Python"
   ]
  },
  {
   "cell_type": "markdown",
   "id": "01a5742d",
   "metadata": {},
   "source": [
    "Get introduced to control structures in Python"
   ]
  },
  {
   "cell_type": "markdown",
   "id": "7d368636",
   "metadata": {},
   "source": [
    "Learn about functions and modules in Python"
   ]
  },
  {
   "cell_type": "markdown",
   "id": "71557c8d",
   "metadata": {},
   "source": [
    "Understand how to handle errors and exceptions in Python"
   ]
  },
  {
   "cell_type": "markdown",
   "id": "c385e58d",
   "metadata": {},
   "source": [
    "Understand the basics of Python programming language"
   ]
  },
  {
   "cell_type": "markdown",
   "id": "27ad4ba6",
   "metadata": {},
   "source": [
    "Learn about data types, variables, and operators in Python"
   ]
  },
  {
   "cell_type": "markdown",
   "id": "e0d1bbab",
   "metadata": {},
   "source": [
    "Get introduced to control structures in Python"
   ]
  },
  {
   "cell_type": "markdown",
   "id": "0c29c8d7",
   "metadata": {},
   "source": [
    "Learn about functions and modules in Python"
   ]
  },
  {
   "cell_type": "markdown",
   "id": "8c74f36d",
   "metadata": {},
   "source": [
    "Understand how to handle errors and exceptions in Python"
   ]
  },
  {
   "cell_type": "markdown",
   "id": "44ffe269",
   "metadata": {},
   "source": [
    "Understand the basics of Python programming language"
   ]
  },
  {
   "cell_type": "markdown",
   "id": "088d7cd6",
   "metadata": {},
   "source": [
    "Learn about data types, variables, and operators in Python"
   ]
  },
  {
   "cell_type": "markdown",
   "id": "a8cab768",
   "metadata": {},
   "source": [
    "Get introduced to control structures in Python"
   ]
  },
  {
   "cell_type": "markdown",
   "id": "1e671336",
   "metadata": {},
   "source": [
    "Learn about functions and modules in Python"
   ]
  },
  {
   "cell_type": "markdown",
   "id": "2e81383d",
   "metadata": {},
   "source": [
    "Understand how to handle errors and exceptions in Python"
   ]
  },
  {
   "cell_type": "markdown",
   "id": "79b248c1",
   "metadata": {},
   "source": [
    "Introduction to Python Operators: Operators are special symbols in Python that carry out arithmetic or logical computation. The value that the operator operates on is called the operand."
   ]
  },
  {
   "cell_type": "code",
   "execution_count": null,
   "id": "e9623067",
   "metadata": {},
   "outputs": [],
   "source": [
    "a = 10\n",
    "b = 20\n",
    "# Arithmetic Operator\n",
    "print('Addition :', a + b)\n",
    "print('Subtraction :', a - b)\n",
    "print('Multiplication :', a * b)\n",
    "print('Division :', a / b)\n",
    "print('Modulus :', a % b)\n",
    "print('Exponent :', a ** b)\n",
    "print('Floor Division :', a // b)\n",
    "# Comparison Operator\n",
    "print('Equal :', a == b)\n",
    "print('Not Equal :', a != b)\n",
    "print('Greater Than :', a > b)\n",
    "print('Less Than :', a < b)\n",
    "print('Greater Than or Equal to :', a >= b)\n",
    "print('Less Than or Equal to :', a <= b)\n",
    "# Logical Operator\n",
    "print('and Operator :', a > 5 and b > 5)\n",
    "print('or Operator :', a > 5 or b > 5)\n",
    "print('not Operator :', not(a > 5 and b > 5))"
   ]
  },
  {
   "cell_type": "markdown",
   "id": "bc72321c",
   "metadata": {},
   "source": [
    "This Python code demonstrates the use of arithmetic operators."
   ]
  },
  {
   "cell_type": "code",
   "execution_count": null,
   "id": "d65da04a",
   "metadata": {},
   "outputs": [],
   "source": [
    "a = 10\n",
    "b = 20\n",
    "\n",
    "# Addition\n",
    "add = a + b\n",
    "print('Addition: ', add)\n",
    "\n",
    "# Subtraction\n",
    "sub = a - b\n",
    "print('Subtraction: ', sub)\n",
    "\n",
    "# Multiplication\n",
    "mul = a * b\n",
    "print('Multiplication: ', mul)\n",
    "\n",
    "# Division\n",
    "div = a / b\n",
    "print('Division: ', div)\n",
    "\n",
    "# Modulus\n",
    "mod = a % b\n",
    "print('Modulus: ', mod)\n",
    "\n",
    "# Exponent\n",
    "exp = a ** b\n",
    "print('Exponent: ', exp)\n",
    "\n",
    "# Floor Division\n",
    "floor_div = a // b\n",
    "print('Floor Division: ', floor_div)"
   ]
  },
  {
   "cell_type": "markdown",
   "id": "4f4af0b7",
   "metadata": {},
   "source": [
    "This Python code demonstrates the use of comparison (relational) operators in Python."
   ]
  },
  {
   "cell_type": "code",
   "execution_count": null,
   "id": "ce15f82a",
   "metadata": {},
   "outputs": [],
   "source": [
    "a = 10\n",
    "b = 20\n",
    "\n",
    "# Equal to\n",
    "print('a == b:', a == b)\n",
    "\n",
    "# Not equal to\n",
    "print('a != b:', a != b)\n",
    "\n",
    "# Less than\n",
    "print('a < b:', a < b)\n",
    "\n",
    "# Less than or equal to\n",
    "print('a <= b:', a <= b)\n",
    "\n",
    "# Greater than\n",
    "print('a > b:', a > b)\n",
    "\n",
    "# Greater than or equal to\n",
    "print('a >= b:', a >= b)"
   ]
  },
  {
   "cell_type": "markdown",
   "id": "b1c9ac96",
   "metadata": {},
   "source": [
    "This Python code demonstrates the use of assignment operators in Python."
   ]
  },
  {
   "cell_type": "code",
   "execution_count": null,
   "id": "2e9b8f15",
   "metadata": {},
   "outputs": [],
   "source": [
    "a = 5\n",
    "b = 2\n",
    "\n",
    "# Using addition assignment operator\n",
    "a += b\n",
    "print('a =', a)\n",
    "\n",
    "# Using subtraction assignment operator\n",
    "a -= b\n",
    "print('a =', a)\n",
    "\n",
    "# Using multiplication assignment operator\n",
    "a *= b\n",
    "print('a =', a)\n",
    "\n",
    "# Using division assignment operator\n",
    "a /= b\n",
    "print('a =', a)\n",
    "\n",
    "# Using modulus assignment operator\n",
    "a %= b\n",
    "print('a =', a)\n",
    "\n",
    "# Using exponent assignment operator\n",
    "a **= b\n",
    "print('a =', a)"
   ]
  },
  {
   "cell_type": "markdown",
   "id": "af117ebc",
   "metadata": {},
   "source": [
    "This Python code demonstrates the use of logical operators."
   ]
  },
  {
   "cell_type": "code",
   "execution_count": null,
   "id": "af135e8e",
   "metadata": {},
   "outputs": [],
   "source": [
    "a = True\n",
    "b = False\n",
    "\n",
    "# AND operator\n",
    "print('a and b is',a and b)\n",
    "\n",
    "# OR operator\n",
    "print('a or b is',a or b)\n",
    "\n",
    "# NOT operator\n",
    "print('Not a is',not a)"
   ]
  },
  {
   "cell_type": "markdown",
   "id": "09b8691f",
   "metadata": {},
   "source": [
    "This Python code demonstrates the use of bitwise operators."
   ]
  },
  {
   "cell_type": "code",
   "execution_count": null,
   "id": "2bc74279",
   "metadata": {},
   "outputs": [],
   "source": [
    "a = 60            # 60 = 0011 1100 \n",
    "b = 13            # 13 = 0000 1101 \n",
    "c = 0\n",
    "\n",
    "c = a & b        # 12 = 0000 1100\n",
    "print(\"Line 1 - Value of c is \", c)\n",
    "\n",
    "c = a | b        # 61 = 0011 1101 \n",
    "print(\"Line 2 - Value of c is \", c)\n",
    "\n",
    "c = a ^ b        # 49 = 0011 0001\n",
    "print(\"Line 3 - Value of c is \", c)\n",
    "\n",
    "c = ~a           # -61 = 1100 0011\n",
    "print(\"Line 4 - Value of c is \", c)\n",
    "\n",
    "c = a << 2       # 240 = 1111 0000\n",
    "print(\"Line 5 - Value of c is \", c)\n",
    "\n",
    "c = a >> 2       # 15 = 0000 1111\n",
    "print(\"Line 6 - Value of c is \", c)"
   ]
  },
  {
   "cell_type": "markdown",
   "id": "6c2f57f7",
   "metadata": {},
   "source": [
    "This Python code demonstrates the use of membership operators in Python. Membership operators are used to test whether a value or variable is found in a sequence (string, list, tuple, set and dictionary). In Python, membership operators are `in` and `not in`."
   ]
  },
  {
   "cell_type": "code",
   "execution_count": null,
   "id": "71793451",
   "metadata": {},
   "outputs": [],
   "source": [
    "list1 = [1, 2, 3, 4, 5]\n",
    "value1 = 3\n",
    "value2 = 6\n",
    "\n",
    "# Check if value1 is in list1\n",
    "if value1 in list1:\n",
    "    print(f'{value1} is found in the list')\n",
    "else:\n",
    "    print(f'{value1} is not found in the list')\n",
    "\n",
    "# Check if value2 is not in list1\n",
    "if value2 not in list1:\n",
    "    print(f'{value2} is not found in the list')\n",
    "else:\n",
    "    print(f'{value2} is found in the list')"
   ]
  },
  {
   "cell_type": "markdown",
   "id": "a3016013",
   "metadata": {},
   "source": [
    "This Python code demonstrates the use of identity operators in Python. Identity operators are used to compare the memory locations of two objects. There are two Identity operators explained below: 'is' and 'is not'."
   ]
  },
  {
   "cell_type": "code",
   "execution_count": null,
   "id": "9f680696",
   "metadata": {},
   "outputs": [],
   "source": [
    "a = 20\n",
    "b = 20\n",
    "\n",
    "if ( a is b ):\n",
    "    print(\"a and b have same identity\")\n",
    "else:\n",
    "    print(\"a and b do not have same identity\")\n",
    "\n",
    "if ( id(a) == id(b) ):\n",
    "    print(\"a and b have same identity\")\n",
    "else:\n",
    "    print(\"a and b do not have same identity\")\n",
    "\n",
    "b = 30\n",
    "if ( a is not b ):\n",
    "    print(\"a and b do not have same identity\")\n",
    "else:\n",
    "    print(\"a and b have same identity\")"
   ]
  },
  {
   "cell_type": "markdown",
   "id": "378df9cf",
   "metadata": {},
   "source": [
    "Operator precedence in Python determines the order in which operations are processed. Python follows the standard mathematical rules for precedence. Here is an example demonstrating the precedence of the multiplication operator over the addition operator."
   ]
  },
  {
   "cell_type": "code",
   "execution_count": null,
   "id": "3dd92898",
   "metadata": {},
   "outputs": [],
   "source": [
    "a = 1 + 2 * 3\n",
    "print(a)  # Outputs: 7 because multiplication has higher precedence than addition."
   ]
  },
  {
   "cell_type": "markdown",
   "id": "77b30af8",
   "metadata": {},
   "source": [
    "Parentheses can be used to change the order of operations. Operations enclosed in parentheses are performed first. Here is an example:"
   ]
  },
  {
   "cell_type": "code",
   "execution_count": null,
   "id": "e6eb5e8c",
   "metadata": {},
   "outputs": [],
   "source": [
    "a = (1 + 2) * 3\n",
    "print(a)  # Outputs: 9 because the operation within the parentheses is performed first."
   ]
  },
  {
   "cell_type": "markdown",
   "id": "f2b64ec6",
   "metadata": {},
   "source": [
    "When operators have the same precedence, they are processed from left to right. Here is an example demonstrating this:"
   ]
  },
  {
   "cell_type": "code",
   "execution_count": null,
   "id": "7c501f24",
   "metadata": {},
   "outputs": [],
   "source": [
    "a = 2 * 3 / 2\n",
    "print(a)  # Outputs: 3 because the multiplication and division operators have the same precedence and are processed from left to right."
   ]
  },
  {
   "cell_type": "markdown",
   "id": "eda5c7e8",
   "metadata": {},
   "source": [
    "Here is the list of operators in decreasing order of their precedence: ** (exponentiation), ~ + - (complement, unary plus and minus), * / % // (multiply, divide, modulo and floor division), + - (addition and subtraction), >> << (right and left bitwise shift), & (bitwise 'AND'), ^ | (bitwise exclusive `OR' and regular `OR'), <= < > >= (comparison operators), <> == != (equality operators), = %= /= //= -= += *= **= (assignment operators), is is not (identity operators), in not in (membership operators), not or and (logical operators)."
   ]
  },
  {
   "cell_type": "code",
   "execution_count": null,
   "id": "b98cec89",
   "metadata": {},
   "outputs": [],
   "source": []
  },
  {
   "cell_type": "markdown",
   "id": "9209c4c1",
   "metadata": {},
   "source": [
    "This Python code demonstrates how to print a string and perform basic arithmetic operations."
   ]
  },
  {
   "cell_type": "code",
   "execution_count": null,
   "id": "833c641f",
   "metadata": {},
   "outputs": [],
   "source": [
    "print(\"Hello, World!\")\n",
    "\n",
    "# Addition\n",
    "a = 5\n",
    "b = 3\n",
    "print(\"Addition: \", a + b)\n",
    "\n",
    "# Subtraction\n",
    "print(\"Subtraction: \", a - b)\n",
    "\n",
    "# Multiplication\n",
    "print(\"Multiplication: \", a * b)\n",
    "\n",
    "# Division\n",
    "print(\"Division: \", a / b)"
   ]
  }
 ],
 "metadata": {
  "kernelspec": {
   "display_name": "Python 3",
   "name": "python3"
  },
  "language_info": {
   "name": "python",
   "version": "3.8.5"
  }
 },
 "nbformat": 4,
 "nbformat_minor": 5
}
