{
 "cells": [
  {
   "cell_type": "markdown",
   "id": "2e83405f",
   "metadata": {},
   "source": [
    "***Subject Python Basic"
   ]
  },
  {
   "cell_type": "markdown",
   "id": "889f0131",
   "metadata": {},
   "source": [
    "***LevelBeginner"
   ]
  },
  {
   "cell_type": "markdown",
   "id": "768d3b6a",
   "metadata": {},
   "source": [
    "***HeadlineIntroduction to Python Programming"
   ]
  },
  {
   "cell_type": "markdown",
   "id": "afade2c8",
   "metadata": {},
   "source": [
    "***OverviewPython is a high-level, interpreted, interactive and object-oriented scripting language. Python is designed to be highly readable. It uses English keywords frequently where as other languages use punctuation, and it has fewer syntactical constructions than other languages."
   ]
  },
  {
   "cell_type": "markdown",
   "id": "cd74c69b",
   "metadata": {},
   "source": [
    "***Objective"
   ]
  },
  {
   "cell_type": "markdown",
   "id": "436de987",
   "metadata": {},
   "source": [
    "Understand the basics of Python programming language"
   ]
  },
  {
   "cell_type": "markdown",
   "id": "97df56a0",
   "metadata": {},
   "source": [
    "Learn about data types, variables, and operators in Python"
   ]
  },
  {
   "cell_type": "markdown",
   "id": "3ba8ca7c",
   "metadata": {},
   "source": [
    "Get introduced to control structures in Python"
   ]
  },
  {
   "cell_type": "markdown",
   "id": "a7f7f8d8",
   "metadata": {},
   "source": [
    "Learn about functions and modules in Python"
   ]
  },
  {
   "cell_type": "markdown",
   "id": "26b549d6",
   "metadata": {},
   "source": [
    "Understand how to handle errors and exceptions in Python"
   ]
  },
  {
   "cell_type": "markdown",
   "id": "6ce5cc4f",
   "metadata": {},
   "source": [
    "Introduction to Python: Python is a high-level, interpreted, interactive and object-oriented scripting language. Python is designed to be highly readable. It uses English keywords frequently where as other languages use punctuation, and it has fewer syntactical constructions than other languages."
   ]
  },
  {
   "cell_type": "code",
   "execution_count": null,
   "id": "668e2631",
   "metadata": {},
   "outputs": [],
   "source": [
    "print(\"Hello, World!\")"
   ]
  },
  {
   "cell_type": "markdown",
   "id": "ed7afaef",
   "metadata": {},
   "source": [
    "Python is a high-level, interpreted, interactive and object-oriented scripting language. Python is designed to be highly readable. It uses English keywords frequently where as other languages use punctuation, and it has fewer syntactical constructions than other languages.\n",
    "\n",
    "Python is Interpreted: Python is processed at runtime by the interpreter. You do not need to compile your program before executing it. This is similar to PERL and PHP.\n",
    "\n",
    "Python is Interactive: You can actually sit at a Python prompt and interact with the interpreter directly to write your programs.\n",
    "\n",
    "Python is Object-Oriented: Python supports Object-Oriented style or technique of programming that encapsulates code within objects."
   ]
  },
  {
   "cell_type": "code",
   "execution_count": null,
   "id": "6aa3e8a7",
   "metadata": {},
   "outputs": [],
   "source": [
    "print(\"Hello, World!\")\n",
    "\n",
    "# This is a comment\n",
    "\n",
    "x = 5\n",
    "y = \"John\"\n",
    "print(x)\n",
    "print(y)"
   ]
  },
  {
   "cell_type": "markdown",
   "id": "e9b1aef4",
   "metadata": {},
   "source": [
    "Python has several built-in data types. Some of the important types are listed below:\n",
    "\n",
    "- Numeric Types: int, float, complex\n",
    "- Sequence Types: list, tuple, range\n",
    "- Text Sequence Type: str\n",
    "- Mapping Type: dict\n",
    "- Set Types: set, frozenset\n",
    "- Boolean Type: bool\n",
    "- Binary Types: bytes, bytearray, memoryview"
   ]
  },
  {
   "cell_type": "code",
   "execution_count": null,
   "id": "0ec7d69a",
   "metadata": {},
   "outputs": [],
   "source": [
    "# Numeric Types\n",
    "a = 5 # int\n",
    "b = 5.0 # float\n",
    "c = 5 + 3j # complex\n",
    "\n",
    "# Sequence Types\n",
    "list1 = [1, 2, 3] # list\n",
    "tuple1 = (1, 2, 3) # tuple\n",
    "range1 = range(6) # range\n",
    "\n",
    "# Text Sequence Type\n",
    "str1 = \"Hello\" # str\n",
    "\n",
    "# Mapping Type\n",
    "dict1 = {\"name\": \"John\", \"age\": 36} # dict\n",
    "\n",
    "# Set Types\n",
    "set1 = {\"apple\", \"banana\", \"cherry\"} # set\n",
    "frozenset1 = frozenset((\"apple\", \"banana\", \"cherry\")) # frozenset\n",
    "\n",
    "# Boolean Type\n",
    "bool1 = True # bool\n",
    "\n",
    "# Binary Types\n",
    "bytes1 = b\"Hello\" # bytes\n",
    "bytearray1 = bytearray(5) # bytearray\n",
    "memoryview1 = memoryview(bytes(5)) # memoryview"
   ]
  },
  {
   "cell_type": "markdown",
   "id": "e069e3c4",
   "metadata": {},
   "source": [
    "Python Operators are used to perform operations on variables and values. Python divides the operators in the following groups:\n",
    "\n",
    "1. Arithmetic operators\n",
    "2. Assignment operators\n",
    "3. Comparison operators\n",
    "4. Logical operators\n",
    "5. Identity operators\n",
    "6. Membership operators\n",
    "7. Bitwise operators"
   ]
  },
  {
   "cell_type": "code",
   "execution_count": null,
   "id": "64148c2c",
   "metadata": {},
   "outputs": [],
   "source": [
    "a = 10\n",
    "b = 20\n",
    "\n",
    "# Arithmetic operators\n",
    "print('Addition :', a + b)\n",
    "print('Subtraction :', a - b)\n",
    "print('Multiplication :', a * b)\n",
    "print('Division :', a / b)\n",
    "\n",
    "# Assignment operators\n",
    "a += b\n",
    "print('a =', a)\n",
    "\n",
    "# Comparison operators\n",
    "print('a > b is',a>b)\n",
    "print('a < b is',a<b)\n",
    "print('a == b is',a==b)\n",
    "\n",
    "# Logical operators\n",
    "print('a and b is',a and b)\n",
    "print('a or b is',a or b)\n",
    "print('not a is',not a)\n",
    "\n",
    "# Identity operators\n",
    "print('a is b is',a is b)\n",
    "print('a is not b is',a is not b)\n",
    "\n",
    "# Membership operators\n",
    "x = 'Hello world'\n",
    "y = {1:'a',2:'b'}\n",
    "print('H in x is','H' in x)\n",
    "print('hello not in x is','hello' not in x)\n",
    "print('1 in y is',1 in y)\n",
    "print('a in y is','a' in y)\n",
    "\n",
    "# Bitwise operators\n",
    "print('a & b is',a&b)\n",
    "print('a | b is',a|b)\n",
    "print('~a is',~a)\n",
    "print('a ^ b is',a^b)\n",
    "print('a >> 2 is',a>>2)\n",
    "print('a << 2 is',a<<2)"
   ]
  },
  {
   "cell_type": "markdown",
   "id": "9057c604",
   "metadata": {},
   "source": [
    "Python Conditional Statements: Conditional statements in Python allows us to test conditions and change the behavior of the program accordingly. The most common conditional statements in Python are if, elif and else statements."
   ]
  },
  {
   "cell_type": "code",
   "execution_count": null,
   "id": "a36a228a",
   "metadata": {},
   "outputs": [],
   "source": [
    "a = 10\n",
    "b = 20\n",
    "if b > a:\n",
    "  print(\"b is greater than a\")\n",
    "elif a == b:\n",
    "  print(\"a and b are equal\")\n",
    "else:\n",
    "  print(\"a is greater than b\")"
   ]
  },
  {
   "cell_type": "markdown",
   "id": "5c205573",
   "metadata": {},
   "source": [
    "This Python code demonstrates how to use loops. There are two types of loops in Python, for and while."
   ]
  },
  {
   "cell_type": "code",
   "execution_count": null,
   "id": "deb823c1",
   "metadata": {},
   "outputs": [],
   "source": [
    "for i in range(5):\n",
    "    print(i)\n",
    "\n",
    "i = 0\n",
    "while i < 5:\n",
    "    print(i)\n",
    "    i += 1"
   ]
  },
  {
   "cell_type": "markdown",
   "id": "413457b4",
   "metadata": {},
   "source": [
    "Python functions are defined using the def keyword. For example, the following function takes two numbers as parameters and returns their sum."
   ]
  },
  {
   "cell_type": "code",
   "execution_count": null,
   "id": "0dc18852",
   "metadata": {},
   "outputs": [],
   "source": [
    "def add_numbers(a, b):\n",
    "    return a + b\n",
    "\n",
    "# Call the function\n",
    "result = add_numbers(5, 3)\n",
    "print(result)  # Output: 8"
   ]
  },
  {
   "cell_type": "markdown",
   "id": "3d61e702",
   "metadata": {},
   "source": [
    "Python lists are ordered, changeable, and allow duplicate members. Here is a basic example of creating and manipulating a list in Python."
   ]
  },
  {
   "cell_type": "code",
   "execution_count": null,
   "id": "0b63bd52",
   "metadata": {},
   "outputs": [],
   "source": [
    "my_list = [1, 2, 3, 4, 5]\n",
    "print(my_list)\n",
    "my_list.append(6)\n",
    "print(my_list)\n",
    "my_list.remove(1)\n",
    "print(my_list)\n",
    "print(len(my_list))"
   ]
  },
  {
   "cell_type": "markdown",
   "id": "9628124c",
   "metadata": {},
   "source": [
    "This Python code demonstrates how to create and manipulate tuples."
   ]
  },
  {
   "cell_type": "code",
   "execution_count": null,
   "id": "ea8b2c80",
   "metadata": {},
   "outputs": [],
   "source": [
    "my_tuple = (\"apple\", \"banana\", \"cherry\")\n",
    "print(my_tuple[1])\n",
    "print(len(my_tuple))\n",
    "my_tuple[1] = \"blackcurrant\" # This will raise an error\n",
    "print(my_tuple)"
   ]
  },
  {
   "cell_type": "markdown",
   "id": "e476b399",
   "metadata": {},
   "source": [
    "Python Dictionaries are unordered, changeable and indexed. In Python dictionaries are written with curly brackets, and they have keys and values."
   ]
  },
  {
   "cell_type": "code",
   "execution_count": null,
   "id": "b4df10e9",
   "metadata": {},
   "outputs": [],
   "source": [
    "dict = {\n",
    "    \"brand\": \"Ford\",\n",
    "    \"model\": \"Mustang\",\n",
    "    \"year\": 1964\n",
    "}\n",
    "print(dict)"
   ]
  },
  {
   "cell_type": "markdown",
   "id": "7db4a9c3",
   "metadata": {},
   "source": [
    "Python sets are a collection which is unordered and unindexed. In Python sets are written with curly brackets."
   ]
  },
  {
   "cell_type": "code",
   "execution_count": null,
   "id": "c65bab2c",
   "metadata": {},
   "outputs": [],
   "source": [
    "myset = {\"apple\", \"banana\", \"cherry\"}\n",
    "print(myset)"
   ]
  },
  {
   "cell_type": "markdown",
   "id": "9e1d6075",
   "metadata": {},
   "source": [
    "You cannot access items in a set by referring to an index, since sets are unordered the items has no index. But you can loop through the set items using a for loop, or ask if a specified value is present in a set, by using the in keyword."
   ]
  },
  {
   "cell_type": "code",
   "execution_count": null,
   "id": "41d7750d",
   "metadata": {},
   "outputs": [],
   "source": [
    "myset = {\"apple\", \"banana\", \"cherry\"}\n",
    "for x in myset:\n",
    "  print(x)"
   ]
  },
  {
   "cell_type": "markdown",
   "id": "017f38dd",
   "metadata": {},
   "source": [
    "To add one item to a set use the add() method. To add more than one item to a set use the update() method."
   ]
  },
  {
   "cell_type": "code",
   "execution_count": null,
   "id": "6a63bd30",
   "metadata": {},
   "outputs": [],
   "source": [
    "myset = {\"apple\", \"banana\", \"cherry\"}\n",
    "myset.add(\"orange\")\n",
    "myset.update([\"mango\", \"grapes\"])\n",
    "print(myset)"
   ]
  },
  {
   "cell_type": "markdown",
   "id": "746421eb",
   "metadata": {},
   "source": [
    "To remove an item in a set, use the remove(), or the discard() method."
   ]
  },
  {
   "cell_type": "code",
   "execution_count": null,
   "id": "bfaa9011",
   "metadata": {},
   "outputs": [],
   "source": [
    "myset = {\"apple\", \"banana\", \"cherry\"}\n",
    "myset.remove(\"banana\")\n",
    "print(myset)"
   ]
  },
  {
   "cell_type": "markdown",
   "id": "9fbb2158",
   "metadata": {},
   "source": [
    "You can also use the pop(), method to remove an item, but this method will remove the last item. Remember that sets are unordered, so you will not know what item that gets removed. The return value of the pop() method is the removed item."
   ]
  },
  {
   "cell_type": "code",
   "execution_count": null,
   "id": "8457fadb",
   "metadata": {},
   "outputs": [],
   "source": [
    "myset = {\"apple\", \"banana\", \"cherry\"}\n",
    "x = myset.pop()\n",
    "print(x)\n",
    "print(myset)"
   ]
  },
  {
   "cell_type": "markdown",
   "id": "916be58c",
   "metadata": {},
   "source": [
    "The clear() method empties the set."
   ]
  },
  {
   "cell_type": "code",
   "execution_count": null,
   "id": "197290f6",
   "metadata": {},
   "outputs": [],
   "source": [
    "myset = {\"apple\", \"banana\", \"cherry\"}\n",
    "myset.clear()\n",
    "print(myset)"
   ]
  },
  {
   "cell_type": "markdown",
   "id": "af3f7143",
   "metadata": {},
   "source": [
    "The del keyword will delete the set completely."
   ]
  },
  {
   "cell_type": "code",
   "execution_count": null,
   "id": "9255aa14",
   "metadata": {},
   "outputs": [],
   "source": [
    "myset = {\"apple\", \"banana\", \"cherry\"}\n",
    "del myset\n",
    "print(myset)"
   ]
  },
  {
   "cell_type": "markdown",
   "id": "45e988ac",
   "metadata": {},
   "source": [
    "Python File Handling: In Python, a file operation takes place in the following order: Open a file, Read or write (perform operation), Close the file. Here is a basic example of file handling in Python."
   ]
  },
  {
   "cell_type": "code",
   "execution_count": null,
   "id": "3883dc69",
   "metadata": {},
   "outputs": [],
   "source": [
    "file = open('testfile.txt','w')\n",
    "\n",
    "file.write('Hello World')\n",
    "file.write('This is our new text file')\n",
    "file.write('and this is another line.')\n",
    "file.write('Why? Because we can.')\n",
    "\n",
    "file.close()"
   ]
  },
  {
   "cell_type": "markdown",
   "id": "15dd39c3",
   "metadata": {},
   "source": [
    "This Python code demonstrates how to handle exceptions using a try-except block."
   ]
  },
  {
   "cell_type": "code",
   "execution_count": null,
   "id": "758dd5c3",
   "metadata": {},
   "outputs": [],
   "source": [
    "try:\n",
    "    a = 50\n",
    "    b = 0\n",
    "    c = a / b\n",
    "except ZeroDivisionError:\n",
    "    print(\"Can't divide by zero\")"
   ]
  },
  {
   "cell_type": "markdown",
   "id": "c3fd0d85",
   "metadata": {},
   "source": [
    "Python Modules are files containing Python code. This code can either be functions, classes or variables. A Python package is a way of organizing related modules into a single directory hierarchy. Here is an example of how to import a Python module and use its functions."
   ]
  },
  {
   "cell_type": "code",
   "execution_count": null,
   "id": "007ab463",
   "metadata": {},
   "outputs": [],
   "source": [
    "import math\n",
    "\n",
    "# Using function from the math module\n",
    "print(math.sqrt(16))"
   ]
  },
  {
   "cell_type": "markdown",
   "id": "664e99bf",
   "metadata": {},
   "source": [
    "Python packages are a way of structuring Python’s module namespace by using “dotted module names”. A directory must contain a file named __init__.py in order for Python to consider it as a package. This file can be left empty but we generally place the initialization code for that package in this file. Here is an example of package usage."
   ]
  },
  {
   "cell_type": "code",
   "execution_count": null,
   "id": "3e49ce2e",
   "metadata": {},
   "outputs": [],
   "source": [
    "# Importing module from a package\n",
    "from package_name import module_name\n",
    "\n",
    "# Using function from the module\n",
    "module_name.function_name()"
   ]
  },
  {
   "cell_type": "markdown",
   "id": "401ef5a2",
   "metadata": {},
   "source": [
    "Python Object Oriented Programming (OOP) is a programming paradigm that provides a means of structuring programs so that properties and behaviors are bundled into individual objects. Here is a basic example of a class in Python."
   ]
  },
  {
   "cell_type": "code",
   "execution_count": null,
   "id": "6621b5e3",
   "metadata": {},
   "outputs": [],
   "source": [
    "class MyClass:\n",
    "    x = 5\n",
    "p1 = MyClass()\n",
    "print(p1.x)"
   ]
  }
 ],
 "metadata": {
  "kernelspec": {
   "display_name": "Python 3",
   "name": "python3"
  },
  "language_info": {
   "name": "python",
   "version": "3.8.5"
  }
 },
 "nbformat": 4,
 "nbformat_minor": 5
}
